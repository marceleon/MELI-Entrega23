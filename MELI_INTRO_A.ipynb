{
 "cells": [
  {
   "cell_type": "markdown",
   "metadata": {},
   "source": [
    "#### Columnas Originales\n",
    "\n",
    "* ITEM_ID: id unívoco de cada item publicado. (Ofuscado)\n",
    "* SHP_WEIGHT: peso del paquete informado por el correo.\n",
    "* SHP_LENGTH: largo del paquete informado por el correo.\n",
    "* SHP_WIDTH: ancho del paquete informado por el correo.\n",
    "* SHP_HEIGHT: altura del paquete informado por el correo.\n",
    "* ATTRIBUTES: atributos como marca y modelo, entre otros, en formato json-lines\n",
    "* CATALOG_PRODUCT_ID: id del catálogo (ofuscado).\n",
    "* CONDITION: condición de venta (nuevo o usado).\n",
    "* DOMAIN_ID: id de la categoría a la que pertenece la publicación.\n",
    "* PRICE: precio en reales.\n",
    "* SELLER_ID: id del vendedor (ofuscado).\n",
    "* STATUS: estado de la publicación (activa, cerrada, pausada, etc.)\n",
    "* TITLE: título de la publicación.\n",
    "\n",
    "\n",
    "#### Columnas Actuales\n",
    "\n",
    "* ITEM_ID\n",
    "* SHP_WEIGHT\n",
    "* SHP_LENGTH\n",
    "* SHP_WIDTH\n",
    "* SHP_HEIGHT\n",
    "* RV_PRICE, precio revisado\n",
    "* STATUS\n",
    "* TITLE\n",
    "* LEN_ATR: cantidad de atributos\n",
    "* DT_CAT_PROD: ID Catalogo del Producto-Revisado\n",
    "* DT_CONDITION: Condición de Venta -Revisado\n",
    "* DT_DOMAIN: Categoría de la Publicación -Revisado\n",
    "* DT_SELLER: ID Vendedor -Revisado\n",
    "* DT_BRAND: Marca del Producto -Revisado\n",
    "* DT_MODEL: Modelo del Producto -Revisado\n",
    "* SCORE: Peso ponderado del Título de la publicación sobre si excede la dimensión máxima\n",
    "* EXCEDIDO: Si el producto excede el límite del correo\n"
   ]
  },
  {
   "cell_type": "code",
   "execution_count": 1,
   "metadata": {},
   "outputs": [],
   "source": [
    "import warnings\n",
    "warnings.filterwarnings('ignore')\n",
    "\n",
    "import pandas as pd\n",
    "import numpy as np\n",
    "from sklearn import preprocessing\n",
    "import itertools\n",
    "\n",
    "import random\n",
    "random.seed(0)\n",
    "\n",
    "import matplotlib.pyplot as plt\n",
    "import seaborn as sns"
   ]
  },
  {
   "cell_type": "code",
   "execution_count": 2,
   "metadata": {},
   "outputs": [],
   "source": [
    "DATASET = 'meli_dataset_c.csv'"
   ]
  },
  {
   "cell_type": "code",
   "execution_count": 3,
   "metadata": {},
   "outputs": [],
   "source": [
    "#Recupero Dataset\n",
    "df_raw = pd.read_csv(DATASET, low_memory=False)\n",
    "df_base = df_raw.copy()"
   ]
  },
  {
   "cell_type": "code",
   "execution_count": 4,
   "metadata": {},
   "outputs": [
    {
     "name": "stdout",
     "output_type": "stream",
     "text": [
      "(296291, 17)\n",
      "ITEM_ID          object\n",
      "SHP_WEIGHT      float64\n",
      "SHP_LENGTH      float64\n",
      "SHP_WIDTH       float64\n",
      "SHP_HEIGHT      float64\n",
      "RV_PRICE        float64\n",
      "STATUS           object\n",
      "TITLE            object\n",
      "LEN_ATR           int64\n",
      "DT_CAT_PROD      object\n",
      "DT_CONDITION     object\n",
      "DT_DOMAIN        object\n",
      "DT_SELLER        object\n",
      "DT_BRAND         object\n",
      "DT_MODEL         object\n",
      "SCORE           float64\n",
      "EXCEDIDO          int64\n",
      "dtype: object\n"
     ]
    },
    {
     "data": {
      "text/html": [
       "<div>\n",
       "<style scoped>\n",
       "    .dataframe tbody tr th:only-of-type {\n",
       "        vertical-align: middle;\n",
       "    }\n",
       "\n",
       "    .dataframe tbody tr th {\n",
       "        vertical-align: top;\n",
       "    }\n",
       "\n",
       "    .dataframe thead th {\n",
       "        text-align: right;\n",
       "    }\n",
       "</style>\n",
       "<table border=\"1\" class=\"dataframe\">\n",
       "  <thead>\n",
       "    <tr style=\"text-align: right;\">\n",
       "      <th></th>\n",
       "      <th>ITEM_ID</th>\n",
       "      <th>SHP_WEIGHT</th>\n",
       "      <th>SHP_LENGTH</th>\n",
       "      <th>SHP_WIDTH</th>\n",
       "      <th>SHP_HEIGHT</th>\n",
       "      <th>RV_PRICE</th>\n",
       "      <th>STATUS</th>\n",
       "      <th>TITLE</th>\n",
       "      <th>LEN_ATR</th>\n",
       "      <th>DT_CAT_PROD</th>\n",
       "      <th>DT_CONDITION</th>\n",
       "      <th>DT_DOMAIN</th>\n",
       "      <th>DT_SELLER</th>\n",
       "      <th>DT_BRAND</th>\n",
       "      <th>DT_MODEL</th>\n",
       "      <th>SCORE</th>\n",
       "      <th>EXCEDIDO</th>\n",
       "    </tr>\n",
       "  </thead>\n",
       "  <tbody>\n",
       "    <tr>\n",
       "      <td>924</td>\n",
       "      <td>G9AOOOWT1C</td>\n",
       "      <td>120.0</td>\n",
       "      <td>20.0</td>\n",
       "      <td>19.0</td>\n",
       "      <td>18.0</td>\n",
       "      <td>39.90</td>\n",
       "      <td>active</td>\n",
       "      <td>Kit Conjunto Uniforme Futebol Brasil Bebê Infa...</td>\n",
       "      <td>7</td>\n",
       "      <td>H53U1H7Q5G</td>\n",
       "      <td>new</td>\n",
       "      <td>MLB-BABY_CLOTHING_SETS</td>\n",
       "      <td>OTROS</td>\n",
       "      <td>OTROS</td>\n",
       "      <td>CONJUNTO</td>\n",
       "      <td>0.000401</td>\n",
       "      <td>0</td>\n",
       "    </tr>\n",
       "    <tr>\n",
       "      <td>282597</td>\n",
       "      <td>MGTELZ7X0A</td>\n",
       "      <td>6200.0</td>\n",
       "      <td>25.0</td>\n",
       "      <td>25.0</td>\n",
       "      <td>25.0</td>\n",
       "      <td>325.00</td>\n",
       "      <td>active</td>\n",
       "      <td>10 Urso De Pelúcia + Cesta De Coração Atacado,...</td>\n",
       "      <td>10</td>\n",
       "      <td>H53U1H7Q5G</td>\n",
       "      <td>new</td>\n",
       "      <td>MLB-STUFFED_TOYS</td>\n",
       "      <td>OTROS</td>\n",
       "      <td>OTROS</td>\n",
       "      <td>OTROS</td>\n",
       "      <td>0.005663</td>\n",
       "      <td>0</td>\n",
       "    </tr>\n",
       "    <tr>\n",
       "      <td>175982</td>\n",
       "      <td>TMOAY5Q7B3</td>\n",
       "      <td>500.0</td>\n",
       "      <td>25.0</td>\n",
       "      <td>11.0</td>\n",
       "      <td>5.0</td>\n",
       "      <td>130.00</td>\n",
       "      <td>active</td>\n",
       "      <td>Headset Gamer 7.1 Usb P2 Kp417 Bassvibração Ad...</td>\n",
       "      <td>7</td>\n",
       "      <td>OTROS</td>\n",
       "      <td>new</td>\n",
       "      <td>MLB-HEADPHONES</td>\n",
       "      <td>OTROS</td>\n",
       "      <td>KNUP</td>\n",
       "      <td>OTROS</td>\n",
       "      <td>0.000690</td>\n",
       "      <td>0</td>\n",
       "    </tr>\n",
       "    <tr>\n",
       "      <td>8638</td>\n",
       "      <td>TLRG8JB3L9</td>\n",
       "      <td>100.0</td>\n",
       "      <td>25.0</td>\n",
       "      <td>11.0</td>\n",
       "      <td>5.0</td>\n",
       "      <td>94.99</td>\n",
       "      <td>active</td>\n",
       "      <td>Smartwatch Xiaomi Mi Band 2 Relógio Pulseira O...</td>\n",
       "      <td>13</td>\n",
       "      <td>OTROS</td>\n",
       "      <td>new</td>\n",
       "      <td>MLB-SPORT_WATCHES</td>\n",
       "      <td>FLE7C49TFR</td>\n",
       "      <td>XIAOMI</td>\n",
       "      <td>OTROS</td>\n",
       "      <td>0.000101</td>\n",
       "      <td>0</td>\n",
       "    </tr>\n",
       "    <tr>\n",
       "      <td>146446</td>\n",
       "      <td>FJDZDJOK5C</td>\n",
       "      <td>160.0</td>\n",
       "      <td>25.0</td>\n",
       "      <td>20.0</td>\n",
       "      <td>10.0</td>\n",
       "      <td>29.99</td>\n",
       "      <td>active</td>\n",
       "      <td>Conversor Audio Optico Digital Fibra/coaxial P...</td>\n",
       "      <td>8</td>\n",
       "      <td>H53U1H7Q5G</td>\n",
       "      <td>new</td>\n",
       "      <td>MLB-ELECTRONIC_ACCESSORIES_AND_SPARE_PARTS</td>\n",
       "      <td>RWJROC5ODY</td>\n",
       "      <td>OTROS</td>\n",
       "      <td>OTROS</td>\n",
       "      <td>0.000462</td>\n",
       "      <td>0</td>\n",
       "    </tr>\n",
       "  </tbody>\n",
       "</table>\n",
       "</div>"
      ],
      "text/plain": [
       "           ITEM_ID  SHP_WEIGHT  SHP_LENGTH  SHP_WIDTH  SHP_HEIGHT  RV_PRICE  \\\n",
       "924     G9AOOOWT1C       120.0        20.0       19.0        18.0     39.90   \n",
       "282597  MGTELZ7X0A      6200.0        25.0       25.0        25.0    325.00   \n",
       "175982  TMOAY5Q7B3       500.0        25.0       11.0         5.0    130.00   \n",
       "8638    TLRG8JB3L9       100.0        25.0       11.0         5.0     94.99   \n",
       "146446  FJDZDJOK5C       160.0        25.0       20.0        10.0     29.99   \n",
       "\n",
       "        STATUS                                              TITLE  LEN_ATR  \\\n",
       "924     active  Kit Conjunto Uniforme Futebol Brasil Bebê Infa...        7   \n",
       "282597  active  10 Urso De Pelúcia + Cesta De Coração Atacado,...       10   \n",
       "175982  active  Headset Gamer 7.1 Usb P2 Kp417 Bassvibração Ad...        7   \n",
       "8638    active  Smartwatch Xiaomi Mi Band 2 Relógio Pulseira O...       13   \n",
       "146446  active  Conversor Audio Optico Digital Fibra/coaxial P...        8   \n",
       "\n",
       "       DT_CAT_PROD DT_CONDITION                                   DT_DOMAIN  \\\n",
       "924     H53U1H7Q5G          new                      MLB-BABY_CLOTHING_SETS   \n",
       "282597  H53U1H7Q5G          new                            MLB-STUFFED_TOYS   \n",
       "175982       OTROS          new                              MLB-HEADPHONES   \n",
       "8638         OTROS          new                           MLB-SPORT_WATCHES   \n",
       "146446  H53U1H7Q5G          new  MLB-ELECTRONIC_ACCESSORIES_AND_SPARE_PARTS   \n",
       "\n",
       "         DT_SELLER DT_BRAND  DT_MODEL     SCORE  EXCEDIDO  \n",
       "924          OTROS    OTROS  CONJUNTO  0.000401         0  \n",
       "282597       OTROS    OTROS     OTROS  0.005663         0  \n",
       "175982       OTROS     KNUP     OTROS  0.000690         0  \n",
       "8638    FLE7C49TFR   XIAOMI     OTROS  0.000101         0  \n",
       "146446  RWJROC5ODY    OTROS     OTROS  0.000462         0  "
      ]
     },
     "metadata": {},
     "output_type": "display_data"
    }
   ],
   "source": [
    "print(df_base.shape)\n",
    "print(df_base.dtypes)\n",
    "display(df_base.sample(5))"
   ]
  },
  {
   "cell_type": "code",
   "execution_count": null,
   "metadata": {},
   "outputs": [],
   "source": []
  },
  {
   "cell_type": "markdown",
   "metadata": {},
   "source": [
    "1. Definimos las columnas a utilizar para los modelos:\n",
    "\n",
    "Descartados:\n",
    "* ITEM_ID,  es la publicación y consideramos que \n",
    "* SHP_WEIGHT, no se conoce, es info del correo \n",
    "* SHP_LENGTH, idem\n",
    "* SHP_WIDTH, idem\n",
    "* SHP_HEIGHT, idem\n",
    "* TITLE\n",
    "* EXCEDIDO: creamos el atributo NO_MAQUINABLE como dato lógico\n",
    "\n",
    "Consideramos:\n",
    "* RV_PRICE\n",
    "* LEN_ATR cantidad de atributos\n",
    "* STATUS\n",
    "* DT_CAT_PROD: ID Catalogo del Producto-Revisado\n",
    "* DT_CONDITION: Condición de Venta -Revisado\n",
    "* DT_DOMAIN: Categoría de la Publicación -Revisado\n",
    "* DT_SELLER: ID Vendedor -Revisado\n",
    "* DT_BRAND: Marca del Producto -Revisado\n",
    "* DT_MODEL: Modelo del Producto -Revisado\n",
    "* SCORE:\n",
    "* NO_MAQUINABLE: "
   ]
  },
  {
   "cell_type": "code",
   "execution_count": 5,
   "metadata": {},
   "outputs": [],
   "source": [
    "#Pasamos la variable EXCEDIDO a lógica\n",
    "df_base['NO_MAQUINABLE']=(df_base.EXCEDIDO == 1)"
   ]
  },
  {
   "cell_type": "code",
   "execution_count": 6,
   "metadata": {},
   "outputs": [
    {
     "data": {
      "text/html": [
       "<div>\n",
       "<style scoped>\n",
       "    .dataframe tbody tr th:only-of-type {\n",
       "        vertical-align: middle;\n",
       "    }\n",
       "\n",
       "    .dataframe tbody tr th {\n",
       "        vertical-align: top;\n",
       "    }\n",
       "\n",
       "    .dataframe thead th {\n",
       "        text-align: right;\n",
       "    }\n",
       "</style>\n",
       "<table border=\"1\" class=\"dataframe\">\n",
       "  <thead>\n",
       "    <tr style=\"text-align: right;\">\n",
       "      <th></th>\n",
       "      <th>NO_MAQUINABLE</th>\n",
       "      <th>EXCEDIDO</th>\n",
       "    </tr>\n",
       "  </thead>\n",
       "  <tbody>\n",
       "    <tr>\n",
       "      <td>122846</td>\n",
       "      <td>False</td>\n",
       "      <td>0</td>\n",
       "    </tr>\n",
       "    <tr>\n",
       "      <td>51936</td>\n",
       "      <td>False</td>\n",
       "      <td>0</td>\n",
       "    </tr>\n",
       "    <tr>\n",
       "      <td>258365</td>\n",
       "      <td>False</td>\n",
       "      <td>0</td>\n",
       "    </tr>\n",
       "    <tr>\n",
       "      <td>287555</td>\n",
       "      <td>False</td>\n",
       "      <td>0</td>\n",
       "    </tr>\n",
       "    <tr>\n",
       "      <td>131022</td>\n",
       "      <td>False</td>\n",
       "      <td>0</td>\n",
       "    </tr>\n",
       "  </tbody>\n",
       "</table>\n",
       "</div>"
      ],
      "text/plain": [
       "        NO_MAQUINABLE  EXCEDIDO\n",
       "122846          False         0\n",
       "51936           False         0\n",
       "258365          False         0\n",
       "287555          False         0\n",
       "131022          False         0"
      ]
     },
     "execution_count": 6,
     "metadata": {},
     "output_type": "execute_result"
    }
   ],
   "source": [
    "df_base[ ['NO_MAQUINABLE','EXCEDIDO'] ].sample(5)"
   ]
  },
  {
   "cell_type": "code",
   "execution_count": 7,
   "metadata": {},
   "outputs": [],
   "source": [
    "col_categorias=['STATUS','DT_CAT_PROD','DT_CONDITION','DT_DOMAIN','DT_SELLER','DT_BRAND','DT_MODEL']\n",
    "col_continuas=['RV_PRICE','LEN_ATR','SCORE']\n",
    "col_x = col_continuas + col_categorias \n",
    "col_y = ['NO_MAQUINABLE']"
   ]
  },
  {
   "cell_type": "code",
   "execution_count": 8,
   "metadata": {},
   "outputs": [],
   "source": [
    "df_modelo=df_base[col_x + col_y]"
   ]
  },
  {
   "cell_type": "code",
   "execution_count": 9,
   "metadata": {},
   "outputs": [
    {
     "name": "stdout",
     "output_type": "stream",
     "text": [
      "(296291, 11)\n",
      "RV_PRICE         float64\n",
      "LEN_ATR            int64\n",
      "SCORE            float64\n",
      "STATUS            object\n",
      "DT_CAT_PROD       object\n",
      "DT_CONDITION      object\n",
      "DT_DOMAIN         object\n",
      "DT_SELLER         object\n",
      "DT_BRAND          object\n",
      "DT_MODEL          object\n",
      "NO_MAQUINABLE       bool\n",
      "dtype: object\n"
     ]
    }
   ],
   "source": [
    "print(df_modelo.shape)\n",
    "print(df_modelo.dtypes)"
   ]
  },
  {
   "cell_type": "markdown",
   "metadata": {},
   "source": [
    "2. Armamos conjuntos de entreamiento y validación"
   ]
  },
  {
   "cell_type": "code",
   "execution_count": 10,
   "metadata": {},
   "outputs": [],
   "source": [
    "from sklearn.preprocessing import StandardScaler, MinMaxScaler "
   ]
  },
  {
   "cell_type": "code",
   "execution_count": 11,
   "metadata": {},
   "outputs": [
    {
     "name": "stdout",
     "output_type": "stream",
     "text": [
      "(296291, 3)\n"
     ]
    },
    {
     "data": {
      "text/html": [
       "<div>\n",
       "<style scoped>\n",
       "    .dataframe tbody tr th:only-of-type {\n",
       "        vertical-align: middle;\n",
       "    }\n",
       "\n",
       "    .dataframe tbody tr th {\n",
       "        vertical-align: top;\n",
       "    }\n",
       "\n",
       "    .dataframe thead th {\n",
       "        text-align: right;\n",
       "    }\n",
       "</style>\n",
       "<table border=\"1\" class=\"dataframe\">\n",
       "  <thead>\n",
       "    <tr style=\"text-align: right;\">\n",
       "      <th></th>\n",
       "      <th>RV_PRICE</th>\n",
       "      <th>LEN_ATR</th>\n",
       "      <th>SCORE</th>\n",
       "    </tr>\n",
       "  </thead>\n",
       "  <tbody>\n",
       "    <tr>\n",
       "      <td>0</td>\n",
       "      <td>68.0</td>\n",
       "      <td>6</td>\n",
       "      <td>0.000326</td>\n",
       "    </tr>\n",
       "    <tr>\n",
       "      <td>1</td>\n",
       "      <td>145.9</td>\n",
       "      <td>9</td>\n",
       "      <td>0.004556</td>\n",
       "    </tr>\n",
       "    <tr>\n",
       "      <td>2</td>\n",
       "      <td>145.9</td>\n",
       "      <td>9</td>\n",
       "      <td>0.004556</td>\n",
       "    </tr>\n",
       "    <tr>\n",
       "      <td>3</td>\n",
       "      <td>145.9</td>\n",
       "      <td>9</td>\n",
       "      <td>0.004556</td>\n",
       "    </tr>\n",
       "    <tr>\n",
       "      <td>4</td>\n",
       "      <td>145.9</td>\n",
       "      <td>9</td>\n",
       "      <td>0.000224</td>\n",
       "    </tr>\n",
       "  </tbody>\n",
       "</table>\n",
       "</div>"
      ],
      "text/plain": [
       "   RV_PRICE  LEN_ATR     SCORE\n",
       "0      68.0        6  0.000326\n",
       "1     145.9        9  0.004556\n",
       "2     145.9        9  0.004556\n",
       "3     145.9        9  0.004556\n",
       "4     145.9        9  0.000224"
      ]
     },
     "metadata": {},
     "output_type": "display_data"
    },
    {
     "data": {
      "text/html": [
       "<div>\n",
       "<style scoped>\n",
       "    .dataframe tbody tr th:only-of-type {\n",
       "        vertical-align: middle;\n",
       "    }\n",
       "\n",
       "    .dataframe tbody tr th {\n",
       "        vertical-align: top;\n",
       "    }\n",
       "\n",
       "    .dataframe thead th {\n",
       "        text-align: right;\n",
       "    }\n",
       "</style>\n",
       "<table border=\"1\" class=\"dataframe\">\n",
       "  <thead>\n",
       "    <tr style=\"text-align: right;\">\n",
       "      <th></th>\n",
       "      <th>RV_PRICE</th>\n",
       "      <th>LEN_ATR</th>\n",
       "      <th>SCORE</th>\n",
       "    </tr>\n",
       "  </thead>\n",
       "  <tbody>\n",
       "    <tr>\n",
       "      <td>0</td>\n",
       "      <td>0.002263</td>\n",
       "      <td>0.10</td>\n",
       "      <td>0.000312</td>\n",
       "    </tr>\n",
       "    <tr>\n",
       "      <td>1</td>\n",
       "      <td>0.004860</td>\n",
       "      <td>0.15</td>\n",
       "      <td>0.004543</td>\n",
       "    </tr>\n",
       "    <tr>\n",
       "      <td>2</td>\n",
       "      <td>0.004860</td>\n",
       "      <td>0.15</td>\n",
       "      <td>0.004543</td>\n",
       "    </tr>\n",
       "    <tr>\n",
       "      <td>3</td>\n",
       "      <td>0.004860</td>\n",
       "      <td>0.15</td>\n",
       "      <td>0.004543</td>\n",
       "    </tr>\n",
       "    <tr>\n",
       "      <td>4</td>\n",
       "      <td>0.004860</td>\n",
       "      <td>0.15</td>\n",
       "      <td>0.000210</td>\n",
       "    </tr>\n",
       "  </tbody>\n",
       "</table>\n",
       "</div>"
      ],
      "text/plain": [
       "   RV_PRICE  LEN_ATR     SCORE\n",
       "0  0.002263     0.10  0.000312\n",
       "1  0.004860     0.15  0.004543\n",
       "2  0.004860     0.15  0.004543\n",
       "3  0.004860     0.15  0.004543\n",
       "4  0.004860     0.15  0.000210"
      ]
     },
     "metadata": {},
     "output_type": "display_data"
    },
    {
     "data": {
      "text/html": [
       "<div>\n",
       "<style scoped>\n",
       "    .dataframe tbody tr th:only-of-type {\n",
       "        vertical-align: middle;\n",
       "    }\n",
       "\n",
       "    .dataframe tbody tr th {\n",
       "        vertical-align: top;\n",
       "    }\n",
       "\n",
       "    .dataframe thead th {\n",
       "        text-align: right;\n",
       "    }\n",
       "</style>\n",
       "<table border=\"1\" class=\"dataframe\">\n",
       "  <thead>\n",
       "    <tr style=\"text-align: right;\">\n",
       "      <th></th>\n",
       "      <th>RV_PRICE</th>\n",
       "      <th>LEN_ATR</th>\n",
       "      <th>SCORE</th>\n",
       "    </tr>\n",
       "  </thead>\n",
       "  <tbody>\n",
       "    <tr>\n",
       "      <td>count</td>\n",
       "      <td>296291.000000</td>\n",
       "      <td>296291.000000</td>\n",
       "      <td>296291.000000</td>\n",
       "    </tr>\n",
       "    <tr>\n",
       "      <td>mean</td>\n",
       "      <td>0.005810</td>\n",
       "      <td>0.131977</td>\n",
       "      <td>0.122354</td>\n",
       "    </tr>\n",
       "    <tr>\n",
       "      <td>std</td>\n",
       "      <td>0.014117</td>\n",
       "      <td>0.094612</td>\n",
       "      <td>0.261138</td>\n",
       "    </tr>\n",
       "    <tr>\n",
       "      <td>min</td>\n",
       "      <td>0.000000</td>\n",
       "      <td>0.000000</td>\n",
       "      <td>0.000000</td>\n",
       "    </tr>\n",
       "    <tr>\n",
       "      <td>25%</td>\n",
       "      <td>0.001677</td>\n",
       "      <td>0.066667</td>\n",
       "      <td>0.000267</td>\n",
       "    </tr>\n",
       "    <tr>\n",
       "      <td>50%</td>\n",
       "      <td>0.003437</td>\n",
       "      <td>0.133333</td>\n",
       "      <td>0.002072</td>\n",
       "    </tr>\n",
       "    <tr>\n",
       "      <td>75%</td>\n",
       "      <td>0.005930</td>\n",
       "      <td>0.183333</td>\n",
       "      <td>0.055521</td>\n",
       "    </tr>\n",
       "    <tr>\n",
       "      <td>max</td>\n",
       "      <td>1.000000</td>\n",
       "      <td>1.000000</td>\n",
       "      <td>1.000000</td>\n",
       "    </tr>\n",
       "  </tbody>\n",
       "</table>\n",
       "</div>"
      ],
      "text/plain": [
       "            RV_PRICE        LEN_ATR          SCORE\n",
       "count  296291.000000  296291.000000  296291.000000\n",
       "mean        0.005810       0.131977       0.122354\n",
       "std         0.014117       0.094612       0.261138\n",
       "min         0.000000       0.000000       0.000000\n",
       "25%         0.001677       0.066667       0.000267\n",
       "50%         0.003437       0.133333       0.002072\n",
       "75%         0.005930       0.183333       0.055521\n",
       "max         1.000000       1.000000       1.000000"
      ]
     },
     "metadata": {},
     "output_type": "display_data"
    }
   ],
   "source": [
    "sMM=MinMaxScaler()\n",
    "Xcon = sMM.fit_transform(df_modelo[col_continuas])\n",
    "Xcon = pd.DataFrame(Xcon, columns=col_continuas)\n",
    "\n",
    "print(Xcon.shape)\n",
    "display(df_modelo[col_continuas].head(5))\n",
    "display(Xcon.head(5))\n",
    "display(Xcon.describe())"
   ]
  },
  {
   "cell_type": "code",
   "execution_count": 12,
   "metadata": {},
   "outputs": [
    {
     "name": "stdout",
     "output_type": "stream",
     "text": [
      "(296291, 4384)\n",
      "STATUS_active          Sparse[uint8, 0]\n",
      "STATUS_closed          Sparse[uint8, 0]\n",
      "STATUS_inactive        Sparse[uint8, 0]\n",
      "STATUS_paused          Sparse[uint8, 0]\n",
      "STATUS_under_review    Sparse[uint8, 0]\n",
      "                             ...       \n",
      "DT_MODEL_X_PLAY        Sparse[uint8, 0]\n",
      "DT_MODEL__             Sparse[uint8, 0]\n",
      "RV_PRICE                        float64\n",
      "LEN_ATR                         float64\n",
      "SCORE                           float64\n",
      "Length: 4384, dtype: object\n"
     ]
    },
    {
     "data": {
      "text/html": [
       "<div>\n",
       "<style scoped>\n",
       "    .dataframe tbody tr th:only-of-type {\n",
       "        vertical-align: middle;\n",
       "    }\n",
       "\n",
       "    .dataframe tbody tr th {\n",
       "        vertical-align: top;\n",
       "    }\n",
       "\n",
       "    .dataframe thead th {\n",
       "        text-align: right;\n",
       "    }\n",
       "</style>\n",
       "<table border=\"1\" class=\"dataframe\">\n",
       "  <thead>\n",
       "    <tr style=\"text-align: right;\">\n",
       "      <th></th>\n",
       "      <th>STATUS_active</th>\n",
       "      <th>STATUS_closed</th>\n",
       "      <th>STATUS_inactive</th>\n",
       "      <th>STATUS_paused</th>\n",
       "      <th>STATUS_under_review</th>\n",
       "      <th>DT_CAT_PROD_B2BWER04UG</th>\n",
       "      <th>DT_CAT_PROD_B5O1R5Z1VR</th>\n",
       "      <th>DT_CAT_PROD_BF6NGKUMZ9</th>\n",
       "      <th>DT_CAT_PROD_BW4AU3M2JW</th>\n",
       "      <th>DT_CAT_PROD_CCDEBX4JCH</th>\n",
       "      <th>...</th>\n",
       "      <th>DT_MODEL_XBOX_ONE</th>\n",
       "      <th>DT_MODEL_XBOX_ONE_S</th>\n",
       "      <th>DT_MODEL_XENON</th>\n",
       "      <th>DT_MODEL_XIAOMI</th>\n",
       "      <th>DT_MODEL_XTREME</th>\n",
       "      <th>DT_MODEL_X_PLAY</th>\n",
       "      <th>DT_MODEL__</th>\n",
       "      <th>RV_PRICE</th>\n",
       "      <th>LEN_ATR</th>\n",
       "      <th>SCORE</th>\n",
       "    </tr>\n",
       "  </thead>\n",
       "  <tbody>\n",
       "    <tr>\n",
       "      <td>0</td>\n",
       "      <td>1</td>\n",
       "      <td>0</td>\n",
       "      <td>0</td>\n",
       "      <td>0</td>\n",
       "      <td>0</td>\n",
       "      <td>0</td>\n",
       "      <td>0</td>\n",
       "      <td>0</td>\n",
       "      <td>0</td>\n",
       "      <td>0</td>\n",
       "      <td>...</td>\n",
       "      <td>0</td>\n",
       "      <td>0</td>\n",
       "      <td>0</td>\n",
       "      <td>0</td>\n",
       "      <td>0</td>\n",
       "      <td>0</td>\n",
       "      <td>0</td>\n",
       "      <td>0.002263</td>\n",
       "      <td>0.10</td>\n",
       "      <td>0.000312</td>\n",
       "    </tr>\n",
       "    <tr>\n",
       "      <td>1</td>\n",
       "      <td>1</td>\n",
       "      <td>0</td>\n",
       "      <td>0</td>\n",
       "      <td>0</td>\n",
       "      <td>0</td>\n",
       "      <td>0</td>\n",
       "      <td>0</td>\n",
       "      <td>0</td>\n",
       "      <td>0</td>\n",
       "      <td>0</td>\n",
       "      <td>...</td>\n",
       "      <td>0</td>\n",
       "      <td>0</td>\n",
       "      <td>0</td>\n",
       "      <td>0</td>\n",
       "      <td>0</td>\n",
       "      <td>0</td>\n",
       "      <td>0</td>\n",
       "      <td>0.004860</td>\n",
       "      <td>0.15</td>\n",
       "      <td>0.004543</td>\n",
       "    </tr>\n",
       "    <tr>\n",
       "      <td>2</td>\n",
       "      <td>1</td>\n",
       "      <td>0</td>\n",
       "      <td>0</td>\n",
       "      <td>0</td>\n",
       "      <td>0</td>\n",
       "      <td>0</td>\n",
       "      <td>0</td>\n",
       "      <td>0</td>\n",
       "      <td>0</td>\n",
       "      <td>0</td>\n",
       "      <td>...</td>\n",
       "      <td>0</td>\n",
       "      <td>0</td>\n",
       "      <td>0</td>\n",
       "      <td>0</td>\n",
       "      <td>0</td>\n",
       "      <td>0</td>\n",
       "      <td>0</td>\n",
       "      <td>0.004860</td>\n",
       "      <td>0.15</td>\n",
       "      <td>0.004543</td>\n",
       "    </tr>\n",
       "    <tr>\n",
       "      <td>3</td>\n",
       "      <td>1</td>\n",
       "      <td>0</td>\n",
       "      <td>0</td>\n",
       "      <td>0</td>\n",
       "      <td>0</td>\n",
       "      <td>0</td>\n",
       "      <td>0</td>\n",
       "      <td>0</td>\n",
       "      <td>0</td>\n",
       "      <td>0</td>\n",
       "      <td>...</td>\n",
       "      <td>0</td>\n",
       "      <td>0</td>\n",
       "      <td>0</td>\n",
       "      <td>0</td>\n",
       "      <td>0</td>\n",
       "      <td>0</td>\n",
       "      <td>0</td>\n",
       "      <td>0.004860</td>\n",
       "      <td>0.15</td>\n",
       "      <td>0.004543</td>\n",
       "    </tr>\n",
       "    <tr>\n",
       "      <td>4</td>\n",
       "      <td>1</td>\n",
       "      <td>0</td>\n",
       "      <td>0</td>\n",
       "      <td>0</td>\n",
       "      <td>0</td>\n",
       "      <td>0</td>\n",
       "      <td>0</td>\n",
       "      <td>0</td>\n",
       "      <td>0</td>\n",
       "      <td>0</td>\n",
       "      <td>...</td>\n",
       "      <td>0</td>\n",
       "      <td>0</td>\n",
       "      <td>0</td>\n",
       "      <td>0</td>\n",
       "      <td>0</td>\n",
       "      <td>0</td>\n",
       "      <td>0</td>\n",
       "      <td>0.004860</td>\n",
       "      <td>0.15</td>\n",
       "      <td>0.000210</td>\n",
       "    </tr>\n",
       "  </tbody>\n",
       "</table>\n",
       "<p>5 rows × 4384 columns</p>\n",
       "</div>"
      ],
      "text/plain": [
       "   STATUS_active  STATUS_closed  STATUS_inactive  STATUS_paused  \\\n",
       "0              1              0                0              0   \n",
       "1              1              0                0              0   \n",
       "2              1              0                0              0   \n",
       "3              1              0                0              0   \n",
       "4              1              0                0              0   \n",
       "\n",
       "   STATUS_under_review  DT_CAT_PROD_B2BWER04UG  DT_CAT_PROD_B5O1R5Z1VR  \\\n",
       "0                    0                       0                       0   \n",
       "1                    0                       0                       0   \n",
       "2                    0                       0                       0   \n",
       "3                    0                       0                       0   \n",
       "4                    0                       0                       0   \n",
       "\n",
       "   DT_CAT_PROD_BF6NGKUMZ9  DT_CAT_PROD_BW4AU3M2JW  DT_CAT_PROD_CCDEBX4JCH  \\\n",
       "0                       0                       0                       0   \n",
       "1                       0                       0                       0   \n",
       "2                       0                       0                       0   \n",
       "3                       0                       0                       0   \n",
       "4                       0                       0                       0   \n",
       "\n",
       "   ...  DT_MODEL_XBOX_ONE  DT_MODEL_XBOX_ONE_S  DT_MODEL_XENON  \\\n",
       "0  ...                  0                    0               0   \n",
       "1  ...                  0                    0               0   \n",
       "2  ...                  0                    0               0   \n",
       "3  ...                  0                    0               0   \n",
       "4  ...                  0                    0               0   \n",
       "\n",
       "   DT_MODEL_XIAOMI  DT_MODEL_XTREME  DT_MODEL_X_PLAY  DT_MODEL__  RV_PRICE  \\\n",
       "0                0                0                0           0  0.002263   \n",
       "1                0                0                0           0  0.004860   \n",
       "2                0                0                0           0  0.004860   \n",
       "3                0                0                0           0  0.004860   \n",
       "4                0                0                0           0  0.004860   \n",
       "\n",
       "   LEN_ATR     SCORE  \n",
       "0     0.10  0.000312  \n",
       "1     0.15  0.004543  \n",
       "2     0.15  0.004543  \n",
       "3     0.15  0.004543  \n",
       "4     0.15  0.000210  \n",
       "\n",
       "[5 rows x 4384 columns]"
      ]
     },
     "metadata": {},
     "output_type": "display_data"
    },
    {
     "data": {
      "text/html": [
       "<div>\n",
       "<style scoped>\n",
       "    .dataframe tbody tr th:only-of-type {\n",
       "        vertical-align: middle;\n",
       "    }\n",
       "\n",
       "    .dataframe tbody tr th {\n",
       "        vertical-align: top;\n",
       "    }\n",
       "\n",
       "    .dataframe thead th {\n",
       "        text-align: right;\n",
       "    }\n",
       "</style>\n",
       "<table border=\"1\" class=\"dataframe\">\n",
       "  <thead>\n",
       "    <tr style=\"text-align: right;\">\n",
       "      <th></th>\n",
       "      <th>NO_MAQUINABLE</th>\n",
       "    </tr>\n",
       "  </thead>\n",
       "  <tbody>\n",
       "    <tr>\n",
       "      <td>0</td>\n",
       "      <td>False</td>\n",
       "    </tr>\n",
       "    <tr>\n",
       "      <td>1</td>\n",
       "      <td>False</td>\n",
       "    </tr>\n",
       "    <tr>\n",
       "      <td>2</td>\n",
       "      <td>False</td>\n",
       "    </tr>\n",
       "    <tr>\n",
       "      <td>3</td>\n",
       "      <td>False</td>\n",
       "    </tr>\n",
       "    <tr>\n",
       "      <td>4</td>\n",
       "      <td>False</td>\n",
       "    </tr>\n",
       "  </tbody>\n",
       "</table>\n",
       "</div>"
      ],
      "text/plain": [
       "   NO_MAQUINABLE\n",
       "0          False\n",
       "1          False\n",
       "2          False\n",
       "3          False\n",
       "4          False"
      ]
     },
     "metadata": {},
     "output_type": "display_data"
    }
   ],
   "source": [
    "Xcat = pd.get_dummies(df_modelo[col_categorias],columns=col_categorias, sparse=True)\n",
    "\n",
    "#Junto Categóricas y Numéricas\n",
    "X=pd.concat([Xcat, Xcon], axis=1)\n",
    "y=df_modelo[col_y]\n",
    "\n",
    "print(X.shape)\n",
    "print(X.dtypes)\n",
    "\n",
    "display(X.head(5))\n",
    "display(y.head(5))"
   ]
  },
  {
   "cell_type": "code",
   "execution_count": 13,
   "metadata": {},
   "outputs": [],
   "source": [
    "from sklearn.model_selection import train_test_split\n",
    "from sklearn.metrics import accuracy_score, classification_report, confusion_matrix"
   ]
  },
  {
   "cell_type": "code",
   "execution_count": 14,
   "metadata": {},
   "outputs": [],
   "source": [
    "#Separamos en train(80%) y test (20%) y entrenamos el modelo\n",
    "X_train, X_test, y_train, y_test = train_test_split(X, y, test_size=0.2, random_state=0)"
   ]
  },
  {
   "cell_type": "code",
   "execution_count": 15,
   "metadata": {},
   "outputs": [
    {
     "name": "stdout",
     "output_type": "stream",
     "text": [
      "TRAIN\n",
      "X: (237032, 4384)\n",
      "y: (237032, 1)\n",
      "TEST\n",
      "X: (59259, 4384)\n",
      "y: (59259, 1)\n"
     ]
    }
   ],
   "source": [
    "print('TRAIN')\n",
    "print('X:', X_train.shape)\n",
    "print('y:', y_train.shape)\n",
    "\n",
    "print('TEST')\n",
    "print('X:', X_test.shape)\n",
    "print('y:', y_test.shape)"
   ]
  },
  {
   "cell_type": "markdown",
   "metadata": {},
   "source": [
    "3. Probamos SGDClassifier con parámetros por defecto"
   ]
  },
  {
   "cell_type": "code",
   "execution_count": 16,
   "metadata": {},
   "outputs": [],
   "source": [
    "from sklearn.linear_model import SGDClassifier"
   ]
  },
  {
   "cell_type": "code",
   "execution_count": 17,
   "metadata": {},
   "outputs": [
    {
     "name": "stderr",
     "output_type": "stream",
     "text": [
      "C:\\Users\\Marcelo\\Anaconda3\\lib\\site-packages\\sklearn\\utils\\validation.py:724: DataConversionWarning: A column-vector y was passed when a 1d array was expected. Please change the shape of y to (n_samples, ), for example using ravel().\n",
      "  y = column_or_1d(y, warn=True)\n"
     ]
    },
    {
     "data": {
      "text/plain": [
       "SGDClassifier(alpha=0.0001, average=False, class_weight=None,\n",
       "              early_stopping=False, epsilon=0.1, eta0=0.0, fit_intercept=True,\n",
       "              l1_ratio=0.15, learning_rate='optimal', loss='hinge',\n",
       "              max_iter=1000, n_iter_no_change=5, n_jobs=None, penalty='l2',\n",
       "              power_t=0.5, random_state=5, shuffle=True, tol=0.001,\n",
       "              validation_fraction=0.1, verbose=0, warm_start=False)"
      ]
     },
     "execution_count": 17,
     "metadata": {},
     "output_type": "execute_result"
    }
   ],
   "source": [
    "modeloSDG = SGDClassifier(random_state=5)\n",
    "modeloSDG.fit(X_train, y_train)"
   ]
  },
  {
   "cell_type": "code",
   "execution_count": 18,
   "metadata": {},
   "outputs": [],
   "source": [
    "y_train_pred = modeloSDG.predict(X_train)\n",
    "y_test_pred  = modeloSDG.predict(X_test)"
   ]
  },
  {
   "cell_type": "code",
   "execution_count": 19,
   "metadata": {},
   "outputs": [
    {
     "name": "stdout",
     "output_type": "stream",
     "text": [
      "Exactitud para TRAIN: 0.9773\n",
      "              precision    recall  f1-score   support\n",
      "\n",
      "       False       0.99      0.99      0.99    226390\n",
      "        True       0.73      0.78      0.76     10642\n",
      "\n",
      "    accuracy                           0.98    237032\n",
      "   macro avg       0.86      0.88      0.87    237032\n",
      "weighted avg       0.98      0.98      0.98    237032\n",
      "\n",
      "Exactitud para TEST : 0.9765\n",
      "              precision    recall  f1-score   support\n",
      "\n",
      "       False       0.99      0.99      0.99     56590\n",
      "        True       0.73      0.76      0.75      2669\n",
      "\n",
      "    accuracy                           0.98     59259\n",
      "   macro avg       0.86      0.88      0.87     59259\n",
      "weighted avg       0.98      0.98      0.98     59259\n",
      "\n"
     ]
    }
   ],
   "source": [
    "print('Exactitud para TRAIN: %.4f' % accuracy_score(y_train, y_train_pred))\n",
    "print(classification_report(y_train, y_train_pred))\n",
    "\n",
    "print('Exactitud para TEST : %.4f' % accuracy_score(y_test, y_test_pred))\n",
    "print(classification_report(y_test, y_test_pred))"
   ]
  },
  {
   "cell_type": "code",
   "execution_count": 20,
   "metadata": {},
   "outputs": [],
   "source": [
    "from ml.visualization import plot_confusion_matrix"
   ]
  },
  {
   "cell_type": "code",
   "execution_count": 21,
   "metadata": {},
   "outputs": [
    {
     "data": {
      "text/plain": [
       "array([[223357,   3033],\n",
       "       [  2337,   8305]], dtype=int64)"
      ]
     },
     "execution_count": 21,
     "metadata": {},
     "output_type": "execute_result"
    }
   ],
   "source": [
    "confusion_matrix(y_train, y_train_pred)"
   ]
  },
  {
   "cell_type": "code",
   "execution_count": 22,
   "metadata": {},
   "outputs": [
    {
     "data": {
      "image/png": "[encoded data removed]",
      "text/plain": [
       "<Figure size 432x288 with 2 Axes>"
      ]
     },
     "metadata": {
      "needs_background": "light"
     },
     "output_type": "display_data"
    }
   ],
   "source": [
    "plot_confusion_matrix(confusion_matrix(y_train, y_train_pred), classes=['OK','Multado'], title=\"Datos: TRAIN\", cmap=plt.cm.Greens)"
   ]
  },
  {
   "cell_type": "code",
   "execution_count": 23,
   "metadata": {},
   "outputs": [
    {
     "data": {
      "text/plain": [
       "array([[55825,   765],\n",
       "       [  628,  2041]], dtype=int64)"
      ]
     },
     "execution_count": 23,
     "metadata": {},
     "output_type": "execute_result"
    }
   ],
   "source": [
    "confusion_matrix(y_test, y_test_pred)"
   ]
  },
  {
   "cell_type": "code",
   "execution_count": 24,
   "metadata": {},
   "outputs": [
    {
     "data": {
      "image/png": "[encoded data removed]",
      "text/plain": [
       "<Figure size 432x288 with 2 Axes>"
      ]
     },
     "metadata": {
      "needs_background": "light"
     },
     "output_type": "display_data"
    }
   ],
   "source": [
    "plot_confusion_matrix(confusion_matrix(y_test, y_test_pred), classes=['OK','Multado'], title=\"Datos: TEST\")"
   ]
  },
  {
   "cell_type": "code",
   "execution_count": null,
   "metadata": {},
   "outputs": [],
   "source": []
  },
  {
   "cell_type": "markdown",
   "metadata": {},
   "source": [
    "4. Probamos RandomFores con parámetros por defecto"
   ]
  },
  {
   "cell_type": "code",
   "execution_count": 25,
   "metadata": {},
   "outputs": [],
   "source": [
    "from sklearn.ensemble import RandomForestClassifier"
   ]
  },
  {
   "cell_type": "code",
   "execution_count": 26,
   "metadata": {},
   "outputs": [
    {
     "name": "stderr",
     "output_type": "stream",
     "text": [
      "C:\\Users\\Marcelo\\Anaconda3\\lib\\site-packages\\ipykernel_launcher.py:2: DataConversionWarning: A column-vector y was passed when a 1d array was expected. Please change the shape of y to (n_samples,), for example using ravel().\n",
      "  \n"
     ]
    },
    {
     "data": {
      "text/plain": [
       "RandomForestClassifier(bootstrap=True, class_weight=None, criterion='gini',\n",
       "                       max_depth=None, max_features='auto', max_leaf_nodes=None,\n",
       "                       min_impurity_decrease=0.0, min_impurity_split=None,\n",
       "                       min_samples_leaf=1, min_samples_split=2,\n",
       "                       min_weight_fraction_leaf=0.0, n_estimators=10,\n",
       "                       n_jobs=None, oob_score=False, random_state=5, verbose=0,\n",
       "                       warm_start=False)"
      ]
     },
     "execution_count": 26,
     "metadata": {},
     "output_type": "execute_result"
    }
   ],
   "source": [
    "modeloRFC = RandomForestClassifier(random_state=5)\n",
    "modeloRFC.fit(X_train, y_train)"
   ]
  },
  {
   "cell_type": "code",
   "execution_count": 27,
   "metadata": {},
   "outputs": [],
   "source": [
    "y_train_pred = modeloRFC.predict(X_train)\n",
    "y_test_pred  = modeloRFC.predict(X_test)"
   ]
  },
  {
   "cell_type": "code",
   "execution_count": 28,
   "metadata": {},
   "outputs": [
    {
     "name": "stdout",
     "output_type": "stream",
     "text": [
      "Exactitud para TRAIN: 0.9952\n",
      "              precision    recall  f1-score   support\n",
      "\n",
      "       False       1.00      1.00      1.00    226390\n",
      "        True       0.97      0.92      0.94     10642\n",
      "\n",
      "    accuracy                           1.00    237032\n",
      "   macro avg       0.98      0.96      0.97    237032\n",
      "weighted avg       1.00      1.00      1.00    237032\n",
      "\n",
      "Exactitud para TEST : 0.9768\n",
      "              precision    recall  f1-score   support\n",
      "\n",
      "       False       0.98      0.99      0.99     56590\n",
      "        True       0.78      0.67      0.72      2669\n",
      "\n",
      "    accuracy                           0.98     59259\n",
      "   macro avg       0.88      0.83      0.86     59259\n",
      "weighted avg       0.98      0.98      0.98     59259\n",
      "\n"
     ]
    }
   ],
   "source": [
    "print('Exactitud para TRAIN: %.4f' % accuracy_score(y_train, y_train_pred))\n",
    "print(classification_report(y_train, y_train_pred))\n",
    "\n",
    "print('Exactitud para TEST : %.4f' % accuracy_score(y_test, y_test_pred))\n",
    "print(classification_report(y_test, y_test_pred))"
   ]
  },
  {
   "cell_type": "code",
   "execution_count": 29,
   "metadata": {},
   "outputs": [
    {
     "data": {
      "text/plain": [
       "array([[226042,    348],\n",
       "       [   801,   9841]], dtype=int64)"
      ]
     },
     "execution_count": 29,
     "metadata": {},
     "output_type": "execute_result"
    }
   ],
   "source": [
    "confusion_matrix(y_train, y_train_pred)"
   ]
  },
  {
   "cell_type": "code",
   "execution_count": 30,
   "metadata": {},
   "outputs": [
    {
     "data": {
      "image/png": "[encoded data removed]",
      "text/plain": [
       "<Figure size 432x288 with 2 Axes>"
      ]
     },
     "metadata": {
      "needs_background": "light"
     },
     "output_type": "display_data"
    }
   ],
   "source": [
    "plot_confusion_matrix(confusion_matrix(y_train, y_train_pred), classes=[0,1], title=\"Datos: TRAIN\", cmap=plt.cm.Greens)"
   ]
  },
  {
   "cell_type": "code",
   "execution_count": 31,
   "metadata": {},
   "outputs": [
    {
     "data": {
      "text/plain": [
       "array([[56098,   492],\n",
       "       [  882,  1787]], dtype=int64)"
      ]
     },
     "execution_count": 31,
     "metadata": {},
     "output_type": "execute_result"
    }
   ],
   "source": [
    "confusion_matrix(y_test, y_test_pred)"
   ]
  },
  {
   "cell_type": "code",
   "execution_count": 32,
   "metadata": {},
   "outputs": [
    {
     "data": {
      "image/png": "[encoded data removed]",
      "text/plain": [
       "<Figure size 432x288 with 2 Axes>"
      ]
     },
     "metadata": {
      "needs_background": "light"
     },
     "output_type": "display_data"
    }
   ],
   "source": [
    "plot_confusion_matrix(confusion_matrix(y_test, y_test_pred), classes=[0,1], title=\"Datos: TEST\")"
   ]
  },
  {
   "cell_type": "code",
   "execution_count": 41,
   "metadata": {},
   "outputs": [
    {
     "data": {
      "text/plain": [
       "(4384,)"
      ]
     },
     "execution_count": 41,
     "metadata": {},
     "output_type": "execute_result"
    }
   ],
   "source": [
    "modeloRFC.feature_importances_.shape"
   ]
  },
  {
   "cell_type": "code",
   "execution_count": null,
   "metadata": {},
   "outputs": [],
   "source": [
    "#Verificamos los principales atributos considerados por el algoritmo"
   ]
  },
  {
   "cell_type": "code",
   "execution_count": 52,
   "metadata": {},
   "outputs": [
    {
     "data": {
      "text/html": [
       "<div>\n",
       "<style scoped>\n",
       "    .dataframe tbody tr th:only-of-type {\n",
       "        vertical-align: middle;\n",
       "    }\n",
       "\n",
       "    .dataframe tbody tr th {\n",
       "        vertical-align: top;\n",
       "    }\n",
       "\n",
       "    .dataframe thead th {\n",
       "        text-align: right;\n",
       "    }\n",
       "</style>\n",
       "<table border=\"1\" class=\"dataframe\">\n",
       "  <thead>\n",
       "    <tr style=\"text-align: right;\">\n",
       "      <th></th>\n",
       "      <th>Atributo</th>\n",
       "      <th>Importancia</th>\n",
       "    </tr>\n",
       "  </thead>\n",
       "  <tbody>\n",
       "    <tr>\n",
       "      <td>4383</td>\n",
       "      <td>SCORE</td>\n",
       "      <td>0.498368</td>\n",
       "    </tr>\n",
       "    <tr>\n",
       "      <td>4381</td>\n",
       "      <td>RV_PRICE</td>\n",
       "      <td>0.092246</td>\n",
       "    </tr>\n",
       "    <tr>\n",
       "      <td>4382</td>\n",
       "      <td>LEN_ATR</td>\n",
       "      <td>0.039542</td>\n",
       "    </tr>\n",
       "    <tr>\n",
       "      <td>0</td>\n",
       "      <td>STATUS_active</td>\n",
       "      <td>0.006678</td>\n",
       "    </tr>\n",
       "    <tr>\n",
       "      <td>141</td>\n",
       "      <td>DT_DOMAIN_MLB-AUTOMOTIVE_DEFLECTORS</td>\n",
       "      <td>0.006670</td>\n",
       "    </tr>\n",
       "    <tr>\n",
       "      <td>2117</td>\n",
       "      <td>DT_SELLER_OTROS</td>\n",
       "      <td>0.006665</td>\n",
       "    </tr>\n",
       "    <tr>\n",
       "      <td>3512</td>\n",
       "      <td>DT_BRAND_OTROS</td>\n",
       "      <td>0.005879</td>\n",
       "    </tr>\n",
       "    <tr>\n",
       "      <td>3</td>\n",
       "      <td>STATUS_paused</td>\n",
       "      <td>0.005402</td>\n",
       "    </tr>\n",
       "    <tr>\n",
       "      <td>4201</td>\n",
       "      <td>DT_MODEL_OTROS</td>\n",
       "      <td>0.004923</td>\n",
       "    </tr>\n",
       "    <tr>\n",
       "      <td>967</td>\n",
       "      <td>DT_DOMAIN_MLB-ROOF_RACKS</td>\n",
       "      <td>0.004916</td>\n",
       "    </tr>\n",
       "  </tbody>\n",
       "</table>\n",
       "</div>"
      ],
      "text/plain": [
       "                                 Atributo  Importancia\n",
       "4383                                SCORE     0.498368\n",
       "4381                             RV_PRICE     0.092246\n",
       "4382                              LEN_ATR     0.039542\n",
       "0                           STATUS_active     0.006678\n",
       "141   DT_DOMAIN_MLB-AUTOMOTIVE_DEFLECTORS     0.006670\n",
       "2117                      DT_SELLER_OTROS     0.006665\n",
       "3512                       DT_BRAND_OTROS     0.005879\n",
       "3                           STATUS_paused     0.005402\n",
       "4201                       DT_MODEL_OTROS     0.004923\n",
       "967              DT_DOMAIN_MLB-ROOF_RACKS     0.004916"
      ]
     },
     "execution_count": 52,
     "metadata": {},
     "output_type": "execute_result"
    }
   ],
   "source": [
    "atr_imp=pd.DataFrame(data=zip(X.columns, modeloRFC.feature_importances_), columns=['Atributo','Importancia'] )\n",
    "atr_imp.sort_values(by='Importancia', ascending=False, inplace=True)\n",
    "atr_imp.head(10)"
   ]
  },
  {
   "cell_type": "code",
   "execution_count": null,
   "metadata": {},
   "outputs": [],
   "source": []
  }
 ],
 "metadata": {
  "kernelspec": {
   "display_name": "Python 3",
   "language": "python",
   "name": "python3"
  },
  "language_info": {
   "codemirror_mode": {
    "name": "ipython",
    "version": 3
   },
   "file_extension": ".py",
   "mimetype": "text/x-python",
   "name": "python",
   "nbconvert_exporter": "python",
   "pygments_lexer": "ipython3",
   "version": "3.7.1"
  }
 },
 "nbformat": 4,
 "nbformat_minor": 2
}
