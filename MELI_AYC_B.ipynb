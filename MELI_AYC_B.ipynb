{
 "cells": [
  {
   "cell_type": "markdown",
   "metadata": {},
   "source": [
    "#### Columnas Originales\n",
    "\n",
    "* ITEM_ID: id unívoco de cada item publicado. (Ofuscado)\n",
    "* SHP_WEIGHT: peso del paquete informado por el correo.\n",
    "* SHP_LENGTH: largo del paquete informado por el correo.\n",
    "* SHP_WIDTH: ancho del paquete informado por el correo.\n",
    "* SHP_HEIGHT: altura del paquete informado por el correo.\n",
    "* ATTRIBUTES: atributos como marca y modelo, entre otros, en formato json-lines\n",
    "* CATALOG_PRODUCT_ID: id del catálogo (ofuscado).\n",
    "* CONDITION: condición de venta (nuevo o usado).\n",
    "* DOMAIN_ID: id de la categoría a la que pertenece la publicación.\n",
    "* PRICE: precio en reales.\n",
    "* SELLER_ID: id del vendedor (ofuscado).\n",
    "* STATUS: estado de la publicación (activa, cerrada, pausada, etc.)\n",
    "* TITLE: título de la publicación.\n",
    "\n",
    "\n",
    "#### Columnas Actuales\n",
    "\n",
    "* ITEM_ID\n",
    "* SHP_WEIGHT\n",
    "* SHP_LENGTH\n",
    "* SHP_WIDTH\n",
    "* SHP_HEIGHT\n",
    "* PRICE\n",
    "* STATUS\n",
    "* TITLE\n",
    "* LEN_ATR: cantidad de atributos\n",
    "* DT_CAT_PROD: ID Catalogo del Producto-Revisado\n",
    "* DT_CONDITION: Condición de Venta -Revisado\n",
    "* DT_DOMAIN: Categoría de la Publicación -Revisado\n",
    "* DT_SELLER: ID Vendedor -Revisado\n",
    "* DT_BRAND: Marca del Producto -Revisado\n",
    "* DT_MODEL: Modelo del Producto -Revisado\n",
    "* EXCEDIDO: Si el producto excede el límite del correo"
   ]
  },
  {
   "cell_type": "code",
   "execution_count": 1,
   "metadata": {},
   "outputs": [],
   "source": [
    "import warnings\n",
    "warnings.filterwarnings('ignore')\n",
    "\n",
    "import pandas as pd\n",
    "import numpy as np\n",
    "\n",
    "from tensorflow.python.keras.preprocessing.text import Tokenizer\n",
    "from tensorflow.python.keras.preprocessing.sequence import pad_sequences\n",
    "\n",
    "import random\n",
    "random.seed(0)"
   ]
  },
  {
   "cell_type": "code",
   "execution_count": 2,
   "metadata": {},
   "outputs": [],
   "source": [
    "DATASET = 'meli_dataset_a.csv'"
   ]
  },
  {
   "cell_type": "code",
   "execution_count": 3,
   "metadata": {},
   "outputs": [],
   "source": [
    "df_raw = pd.read_csv(DATASET, low_memory=False)\n",
    "df = df_raw.copy()"
   ]
  },
  {
   "cell_type": "code",
   "execution_count": 4,
   "metadata": {},
   "outputs": [
    {
     "name": "stdout",
     "output_type": "stream",
     "text": [
      "(296291, 16)\n",
      "ITEM_ID          object\n",
      "SHP_WEIGHT      float64\n",
      "SHP_LENGTH      float64\n",
      "SHP_WIDTH       float64\n",
      "SHP_HEIGHT      float64\n",
      "PRICE           float64\n",
      "STATUS           object\n",
      "TITLE            object\n",
      "LEN_ATR           int64\n",
      "DT_CAT_PROD      object\n",
      "DT_CONDITION     object\n",
      "DT_DOMAIN        object\n",
      "DT_SELLER        object\n",
      "DT_BRAND         object\n",
      "DT_MODEL         object\n",
      "EXCEDIDO          int64\n",
      "dtype: object\n"
     ]
    },
    {
     "data": {
      "text/html": [
       "<div>\n",
       "<style scoped>\n",
       "    .dataframe tbody tr th:only-of-type {\n",
       "        vertical-align: middle;\n",
       "    }\n",
       "\n",
       "    .dataframe tbody tr th {\n",
       "        vertical-align: top;\n",
       "    }\n",
       "\n",
       "    .dataframe thead th {\n",
       "        text-align: right;\n",
       "    }\n",
       "</style>\n",
       "<table border=\"1\" class=\"dataframe\">\n",
       "  <thead>\n",
       "    <tr style=\"text-align: right;\">\n",
       "      <th></th>\n",
       "      <th>ITEM_ID</th>\n",
       "      <th>SHP_WEIGHT</th>\n",
       "      <th>SHP_LENGTH</th>\n",
       "      <th>SHP_WIDTH</th>\n",
       "      <th>SHP_HEIGHT</th>\n",
       "      <th>PRICE</th>\n",
       "      <th>STATUS</th>\n",
       "      <th>TITLE</th>\n",
       "      <th>LEN_ATR</th>\n",
       "      <th>DT_CAT_PROD</th>\n",
       "      <th>DT_CONDITION</th>\n",
       "      <th>DT_DOMAIN</th>\n",
       "      <th>DT_SELLER</th>\n",
       "      <th>DT_BRAND</th>\n",
       "      <th>DT_MODEL</th>\n",
       "      <th>EXCEDIDO</th>\n",
       "    </tr>\n",
       "  </thead>\n",
       "  <tbody>\n",
       "    <tr>\n",
       "      <td>147376</td>\n",
       "      <td>YEK9TYQZM5</td>\n",
       "      <td>750.0</td>\n",
       "      <td>30.0</td>\n",
       "      <td>20.0</td>\n",
       "      <td>5.0</td>\n",
       "      <td>NaN</td>\n",
       "      <td>under_review</td>\n",
       "      <td>Chapinha Nano Titanium Babyliss Profissional B...</td>\n",
       "      <td>0</td>\n",
       "      <td>H53U1H7Q5G</td>\n",
       "      <td>SIN_DATOS</td>\n",
       "      <td>SIN_DATOS</td>\n",
       "      <td>OTROS</td>\n",
       "      <td>SIN_DATOS</td>\n",
       "      <td>SIN_DATOS</td>\n",
       "      <td>0</td>\n",
       "    </tr>\n",
       "    <tr>\n",
       "      <td>263359</td>\n",
       "      <td>ERF672H5I3</td>\n",
       "      <td>673.0</td>\n",
       "      <td>45.0</td>\n",
       "      <td>26.0</td>\n",
       "      <td>20.0</td>\n",
       "      <td>174.90</td>\n",
       "      <td>active</td>\n",
       "      <td>Alicate Corte Diagonal + Corte Frontal Força D...</td>\n",
       "      <td>7</td>\n",
       "      <td>H53U1H7Q5G</td>\n",
       "      <td>new</td>\n",
       "      <td>OTROS</td>\n",
       "      <td>OTROS</td>\n",
       "      <td>WORKER</td>\n",
       "      <td>OTROS</td>\n",
       "      <td>0</td>\n",
       "    </tr>\n",
       "    <tr>\n",
       "      <td>63184</td>\n",
       "      <td>RN4Z2Q8WKZ</td>\n",
       "      <td>100.0</td>\n",
       "      <td>25.0</td>\n",
       "      <td>11.0</td>\n",
       "      <td>5.0</td>\n",
       "      <td>NaN</td>\n",
       "      <td>under_review</td>\n",
       "      <td>Kit Carregador Tomada + Cabo Usb V8 1000ma Kai...</td>\n",
       "      <td>0</td>\n",
       "      <td>H53U1H7Q5G</td>\n",
       "      <td>SIN_DATOS</td>\n",
       "      <td>SIN_DATOS</td>\n",
       "      <td>Y0DXBLS7S0</td>\n",
       "      <td>SIN_DATOS</td>\n",
       "      <td>SIN_DATOS</td>\n",
       "      <td>0</td>\n",
       "    </tr>\n",
       "    <tr>\n",
       "      <td>234877</td>\n",
       "      <td>T9S7T6GJOK</td>\n",
       "      <td>754.0</td>\n",
       "      <td>35.0</td>\n",
       "      <td>22.0</td>\n",
       "      <td>15.0</td>\n",
       "      <td>NaN</td>\n",
       "      <td>under_review</td>\n",
       "      <td>Tênis  Vans Old Skool  Na Caixa Preço Revenda</td>\n",
       "      <td>0</td>\n",
       "      <td>H53U1H7Q5G</td>\n",
       "      <td>SIN_DATOS</td>\n",
       "      <td>SIN_DATOS</td>\n",
       "      <td>OTROS</td>\n",
       "      <td>SIN_DATOS</td>\n",
       "      <td>SIN_DATOS</td>\n",
       "      <td>0</td>\n",
       "    </tr>\n",
       "    <tr>\n",
       "      <td>292726</td>\n",
       "      <td>RHEYU9IK4E</td>\n",
       "      <td>2473.0</td>\n",
       "      <td>28.0</td>\n",
       "      <td>23.0</td>\n",
       "      <td>18.0</td>\n",
       "      <td>149.78</td>\n",
       "      <td>active</td>\n",
       "      <td>Alto Falante Bravox Kit Fácil X 6 B3x60x + 6x9...</td>\n",
       "      <td>9</td>\n",
       "      <td>H53U1H7Q5G</td>\n",
       "      <td>new</td>\n",
       "      <td>MLB-AUTOMOTIVE_SPEAKERS</td>\n",
       "      <td>OTROS</td>\n",
       "      <td>BRAVOX</td>\n",
       "      <td>OTROS</td>\n",
       "      <td>0</td>\n",
       "    </tr>\n",
       "  </tbody>\n",
       "</table>\n",
       "</div>"
      ],
      "text/plain": [
       "           ITEM_ID  SHP_WEIGHT  SHP_LENGTH  SHP_WIDTH  SHP_HEIGHT   PRICE  \\\n",
       "147376  YEK9TYQZM5       750.0        30.0       20.0         5.0     NaN   \n",
       "263359  ERF672H5I3       673.0        45.0       26.0        20.0  174.90   \n",
       "63184   RN4Z2Q8WKZ       100.0        25.0       11.0         5.0     NaN   \n",
       "234877  T9S7T6GJOK       754.0        35.0       22.0        15.0     NaN   \n",
       "292726  RHEYU9IK4E      2473.0        28.0       23.0        18.0  149.78   \n",
       "\n",
       "              STATUS                                              TITLE  \\\n",
       "147376  under_review  Chapinha Nano Titanium Babyliss Profissional B...   \n",
       "263359        active  Alicate Corte Diagonal + Corte Frontal Força D...   \n",
       "63184   under_review  Kit Carregador Tomada + Cabo Usb V8 1000ma Kai...   \n",
       "234877  under_review      Tênis  Vans Old Skool  Na Caixa Preço Revenda   \n",
       "292726        active  Alto Falante Bravox Kit Fácil X 6 B3x60x + 6x9...   \n",
       "\n",
       "        LEN_ATR DT_CAT_PROD DT_CONDITION                DT_DOMAIN   DT_SELLER  \\\n",
       "147376        0  H53U1H7Q5G    SIN_DATOS                SIN_DATOS       OTROS   \n",
       "263359        7  H53U1H7Q5G          new                    OTROS       OTROS   \n",
       "63184         0  H53U1H7Q5G    SIN_DATOS                SIN_DATOS  Y0DXBLS7S0   \n",
       "234877        0  H53U1H7Q5G    SIN_DATOS                SIN_DATOS       OTROS   \n",
       "292726        9  H53U1H7Q5G          new  MLB-AUTOMOTIVE_SPEAKERS       OTROS   \n",
       "\n",
       "         DT_BRAND   DT_MODEL  EXCEDIDO  \n",
       "147376  SIN_DATOS  SIN_DATOS         0  \n",
       "263359     WORKER      OTROS         0  \n",
       "63184   SIN_DATOS  SIN_DATOS         0  \n",
       "234877  SIN_DATOS  SIN_DATOS         0  \n",
       "292726     BRAVOX      OTROS         0  "
      ]
     },
     "metadata": {},
     "output_type": "display_data"
    }
   ],
   "source": [
    "print(df.shape)\n",
    "print(df.dtypes)\n",
    "display(df.sample(5))"
   ]
  },
  {
   "cell_type": "code",
   "execution_count": null,
   "metadata": {},
   "outputs": [],
   "source": []
  },
  {
   "cell_type": "markdown",
   "metadata": {},
   "source": [
    "### Se buscará armar un puntaje por envío que muestre la posibiliad de exceder el tope del correo según lo expuesto en el título de la publicación.\n",
    "#### Sobremuestreo Envios Excedidos"
   ]
  },
  {
   "cell_type": "code",
   "execution_count": 5,
   "metadata": {},
   "outputs": [],
   "source": [
    "df_excedido = df[ df.EXCEDIDO==1 ].sample(50000, replace= True)"
   ]
  },
  {
   "cell_type": "code",
   "execution_count": 6,
   "metadata": {},
   "outputs": [],
   "source": [
    "df_ok = df[ df.EXCEDIDO==0 ].sample(150000)"
   ]
  },
  {
   "cell_type": "code",
   "execution_count": 7,
   "metadata": {},
   "outputs": [],
   "source": [
    "df_balance = pd.concat([df_excedido, df_ok]).sample(200000).reset_index(drop=True)"
   ]
  },
  {
   "cell_type": "code",
   "execution_count": 8,
   "metadata": {},
   "outputs": [
    {
     "data": {
      "text/plain": [
       "(200000, 16)"
      ]
     },
     "execution_count": 8,
     "metadata": {},
     "output_type": "execute_result"
    }
   ],
   "source": [
    "df_balance.shape"
   ]
  },
  {
   "cell_type": "code",
   "execution_count": 9,
   "metadata": {},
   "outputs": [],
   "source": [
    "X_train = df_balance.loc[:160000,'TITLE']\n",
    "y_train = df_balance.loc[:160000,'EXCEDIDO']\n",
    "X_test = df_balance.loc[160001:,'TITLE']\n",
    "y_test = df_balance.loc[160001:,'EXCEDIDO']"
   ]
  },
  {
   "cell_type": "code",
   "execution_count": 10,
   "metadata": {},
   "outputs": [
    {
     "name": "stdout",
     "output_type": "stream",
     "text": [
      "(160001,)\n",
      "(160001,)\n",
      "(39999,)\n",
      "(39999,)\n"
     ]
    }
   ],
   "source": [
    "print(X_train.shape)\n",
    "print(y_train.shape)\n",
    "print(X_test.shape)\n",
    "print(y_test.shape)"
   ]
  },
  {
   "cell_type": "markdown",
   "metadata": {},
   "source": [
    "## Deep Model\n",
    "\n",
    "### Get Vocabulary"
   ]
  },
  {
   "cell_type": "code",
   "execution_count": 11,
   "metadata": {},
   "outputs": [],
   "source": [
    "tokenizer_obj = Tokenizer()\n",
    "total_reviews = df.TITLE\n",
    "tokenizer_obj.fit_on_texts(total_reviews)"
   ]
  },
  {
   "cell_type": "code",
   "execution_count": 12,
   "metadata": {},
   "outputs": [],
   "source": [
    "max_length = max([len(s.split()) for s in total_reviews])"
   ]
  },
  {
   "cell_type": "code",
   "execution_count": 13,
   "metadata": {},
   "outputs": [
    {
     "name": "stdout",
     "output_type": "stream",
     "text": [
      "23\n"
     ]
    }
   ],
   "source": [
    "print(max_length)"
   ]
  },
  {
   "cell_type": "code",
   "execution_count": 14,
   "metadata": {},
   "outputs": [],
   "source": [
    "vocab_size = len(tokenizer_obj.word_index) + 1"
   ]
  },
  {
   "cell_type": "code",
   "execution_count": 15,
   "metadata": {},
   "outputs": [
    {
     "name": "stdout",
     "output_type": "stream",
     "text": [
      "96641\n"
     ]
    }
   ],
   "source": [
    "print(vocab_size)"
   ]
  },
  {
   "cell_type": "code",
   "execution_count": 16,
   "metadata": {},
   "outputs": [],
   "source": [
    "X_train_tokens = tokenizer_obj.texts_to_sequences(X_train)\n",
    "X_test_tokens = tokenizer_obj.texts_to_sequences(X_test)"
   ]
  },
  {
   "cell_type": "code",
   "execution_count": 17,
   "metadata": {},
   "outputs": [],
   "source": [
    "X_train_pad = pad_sequences(X_train_tokens, maxlen= max_length, padding='post')\n",
    "X_test_pad = pad_sequences(X_test_tokens, maxlen= max_length, padding='post')"
   ]
  },
  {
   "cell_type": "code",
   "execution_count": 18,
   "metadata": {},
   "outputs": [
    {
     "name": "stderr",
     "output_type": "stream",
     "text": [
      "Using TensorFlow backend.\n"
     ]
    }
   ],
   "source": [
    "# Build Model\n",
    "from keras.models import Sequential\n",
    "from keras.layers import Dense, Embedding, LSTM, GRU\n",
    "from keras.layers.embeddings import Embedding"
   ]
  },
  {
   "cell_type": "code",
   "execution_count": 19,
   "metadata": {},
   "outputs": [
    {
     "name": "stdout",
     "output_type": "stream",
     "text": [
      "Build model...\n"
     ]
    }
   ],
   "source": [
    "EMBEDDING_DIM = 100\n",
    "print('Build model...')"
   ]
  },
  {
   "cell_type": "code",
   "execution_count": 20,
   "metadata": {},
   "outputs": [
    {
     "name": "stdout",
     "output_type": "stream",
     "text": [
      "WARNING:tensorflow:From C:\\Users\\Marcelo\\Anaconda3\\lib\\site-packages\\tensorflow\\python\\framework\\op_def_library.py:263: colocate_with (from tensorflow.python.framework.ops) is deprecated and will be removed in a future version.\n",
      "Instructions for updating:\n",
      "Colocations handled automatically by placer.\n",
      "WARNING:tensorflow:From C:\\Users\\Marcelo\\Anaconda3\\lib\\site-packages\\keras\\backend\\tensorflow_backend.py:3445: calling dropout (from tensorflow.python.ops.nn_ops) with keep_prob is deprecated and will be removed in a future version.\n",
      "Instructions for updating:\n",
      "Please use `rate` instead of `keep_prob`. Rate should be set to `rate = 1 - keep_prob`.\n"
     ]
    }
   ],
   "source": [
    "model = Sequential()\n",
    "model.add(Embedding(vocab_size, EMBEDDING_DIM, input_length=max_length))\n",
    "model.add(GRU(units=48, dropout=0.2, recurrent_dropout=0.2))\n",
    "model.add(Dense(1, activation='sigmoid'))"
   ]
  },
  {
   "cell_type": "code",
   "execution_count": 21,
   "metadata": {},
   "outputs": [],
   "source": [
    "model.compile(loss='binary_crossentropy', optimizer='adam', metrics=['acc'])"
   ]
  },
  {
   "cell_type": "code",
   "execution_count": 22,
   "metadata": {},
   "outputs": [
    {
     "name": "stdout",
     "output_type": "stream",
     "text": [
      "_________________________________________________________________\n",
      "Layer (type)                 Output Shape              Param #   \n",
      "=================================================================\n",
      "embedding_1 (Embedding)      (None, 23, 100)           9664100   \n",
      "_________________________________________________________________\n",
      "gru_1 (GRU)                  (None, 48)                21456     \n",
      "_________________________________________________________________\n",
      "dense_1 (Dense)              (None, 1)                 49        \n",
      "=================================================================\n",
      "Total params: 9,685,605\n",
      "Trainable params: 9,685,605\n",
      "Non-trainable params: 0\n",
      "_________________________________________________________________\n"
     ]
    }
   ],
   "source": [
    "model.summary()"
   ]
  },
  {
   "cell_type": "code",
   "execution_count": null,
   "metadata": {},
   "outputs": [],
   "source": []
  },
  {
   "cell_type": "markdown",
   "metadata": {},
   "source": [
    "### Entrenar Modelo, se provee los pesos del modelo preentrenado puede saltar hasta la celda de Importar Pesos"
   ]
  },
  {
   "cell_type": "code",
   "execution_count": 23,
   "metadata": {},
   "outputs": [
    {
     "name": "stdout",
     "output_type": "stream",
     "text": [
      "WARNING:tensorflow:From C:\\Users\\Marcelo\\Anaconda3\\lib\\site-packages\\tensorflow\\python\\ops\\math_ops.py:3066: to_int32 (from tensorflow.python.ops.math_ops) is deprecated and will be removed in a future version.\n",
      "Instructions for updating:\n",
      "Use tf.cast instead.\n",
      "Train on 160001 samples, validate on 39999 samples\n",
      "Epoch 1/5\n",
      " - 155s - loss: 0.3122 - acc: 0.8719 - val_loss: 0.2032 - val_acc: 0.9222\n",
      "Epoch 2/5\n",
      " - 157s - loss: 0.1555 - acc: 0.9408 - val_loss: 0.1591 - val_acc: 0.9399\n",
      "Epoch 3/5\n",
      " - 165s - loss: 0.1047 - acc: 0.9599 - val_loss: 0.1374 - val_acc: 0.9518\n",
      "Epoch 4/5\n",
      " - 162s - loss: 0.0789 - acc: 0.9706 - val_loss: 0.1346 - val_acc: 0.9549\n",
      "Epoch 5/5\n",
      " - 162s - loss: 0.0649 - acc: 0.9757 - val_loss: 0.1393 - val_acc: 0.9557\n"
     ]
    },
    {
     "data": {
      "text/plain": [
       "<keras.callbacks.History at 0x156cf970860>"
      ]
     },
     "execution_count": 23,
     "metadata": {},
     "output_type": "execute_result"
    }
   ],
   "source": [
    "model.fit(X_train_pad, y_train, batch_size=128, epochs=5, validation_data=(X_test_pad, y_test), verbose=2)"
   ]
  },
  {
   "cell_type": "code",
   "execution_count": 24,
   "metadata": {},
   "outputs": [],
   "source": [
    "#model.save('meli_title_nn_200k.h5')"
   ]
  },
  {
   "cell_type": "markdown",
   "metadata": {},
   "source": [
    "#### Importar pesos y realizar predicciones"
   ]
  },
  {
   "cell_type": "code",
   "execution_count": 25,
   "metadata": {},
   "outputs": [],
   "source": [
    "#model.load_weights('meli_title_nn_200k.h5')"
   ]
  },
  {
   "cell_type": "code",
   "execution_count": 26,
   "metadata": {},
   "outputs": [],
   "source": [
    "test_txt = df.TITLE\n",
    "test_txt_tokens = tokenizer_obj.texts_to_sequences(test_txt)\n",
    "test_txt_tokens_pad = pad_sequences(test_txt_tokens, maxlen=max_length)"
   ]
  },
  {
   "cell_type": "code",
   "execution_count": 27,
   "metadata": {},
   "outputs": [],
   "source": [
    "title_score = model.predict(x=test_txt_tokens_pad)"
   ]
  },
  {
   "cell_type": "code",
   "execution_count": 28,
   "metadata": {},
   "outputs": [
    {
     "data": {
      "text/plain": [
       "array([[3.2600760e-04],\n",
       "       [4.5561194e-03],\n",
       "       [4.5561194e-03],\n",
       "       ...,\n",
       "       [3.8499478e-01],\n",
       "       [9.7332494e-03],\n",
       "       [6.7802185e-01]], dtype=float32)"
      ]
     },
     "execution_count": 28,
     "metadata": {},
     "output_type": "execute_result"
    }
   ],
   "source": [
    "title_score"
   ]
  },
  {
   "cell_type": "markdown",
   "metadata": {},
   "source": [
    "#### Adicionar score al df"
   ]
  },
  {
   "cell_type": "code",
   "execution_count": 29,
   "metadata": {},
   "outputs": [],
   "source": [
    "df['SCORE'] = title_score"
   ]
  },
  {
   "cell_type": "code",
   "execution_count": 30,
   "metadata": {},
   "outputs": [
    {
     "data": {
      "text/html": [
       "<div>\n",
       "<style scoped>\n",
       "    .dataframe tbody tr th:only-of-type {\n",
       "        vertical-align: middle;\n",
       "    }\n",
       "\n",
       "    .dataframe tbody tr th {\n",
       "        vertical-align: top;\n",
       "    }\n",
       "\n",
       "    .dataframe thead th {\n",
       "        text-align: right;\n",
       "    }\n",
       "</style>\n",
       "<table border=\"1\" class=\"dataframe\">\n",
       "  <thead>\n",
       "    <tr style=\"text-align: right;\">\n",
       "      <th></th>\n",
       "      <th>TITLE</th>\n",
       "      <th>EXCEDIDO</th>\n",
       "      <th>SCORE</th>\n",
       "    </tr>\n",
       "  </thead>\n",
       "  <tbody>\n",
       "    <tr>\n",
       "      <td>93002</td>\n",
       "      <td>Fogão Cooktop 5 Bocas Preto Askoi  - 1 Ano De ...</td>\n",
       "      <td>1</td>\n",
       "      <td>0.945979</td>\n",
       "    </tr>\n",
       "    <tr>\n",
       "      <td>23802</td>\n",
       "      <td>Roçadeira À Gasolina 1 Hp 26 Cc 2 Tempos Tbc26...</td>\n",
       "      <td>1</td>\n",
       "      <td>0.999443</td>\n",
       "    </tr>\n",
       "    <tr>\n",
       "      <td>206236</td>\n",
       "      <td>Tapete De Atividades Gymini Move Play - Tiny Love</td>\n",
       "      <td>1</td>\n",
       "      <td>0.984532</td>\n",
       "    </tr>\n",
       "    <tr>\n",
       "      <td>174806</td>\n",
       "      <td>Monitor Samsung Led 27'' Full Hd Curved  + Not...</td>\n",
       "      <td>1</td>\n",
       "      <td>0.992743</td>\n",
       "    </tr>\n",
       "    <tr>\n",
       "      <td>260425</td>\n",
       "      <td>Banqueta Junko Marrom Caputino Mercado De Pont...</td>\n",
       "      <td>1</td>\n",
       "      <td>0.999735</td>\n",
       "    </tr>\n",
       "    <tr>\n",
       "      <td>31769</td>\n",
       "      <td>Arara Roupas 100% Aço C/ Sapateira Cabideiro R...</td>\n",
       "      <td>1</td>\n",
       "      <td>0.999132</td>\n",
       "    </tr>\n",
       "    <tr>\n",
       "      <td>274465</td>\n",
       "      <td>Friso Lateral Etios Hatch 13 A 19 Vermelho Fur...</td>\n",
       "      <td>1</td>\n",
       "      <td>0.522903</td>\n",
       "    </tr>\n",
       "    <tr>\n",
       "      <td>126732</td>\n",
       "      <td>Jogo 3 Prat. Mdf Kit Organiz. Parede Invis. 60...</td>\n",
       "      <td>1</td>\n",
       "      <td>0.924078</td>\n",
       "    </tr>\n",
       "    <tr>\n",
       "      <td>189260</td>\n",
       "      <td>Monitores Mackie Cr3 Caixas Som</td>\n",
       "      <td>1</td>\n",
       "      <td>0.907548</td>\n",
       "    </tr>\n",
       "    <tr>\n",
       "      <td>45948</td>\n",
       "      <td>Taco Sinuca / Bilhar Profissional Cruz De Malt...</td>\n",
       "      <td>1</td>\n",
       "      <td>0.980295</td>\n",
       "    </tr>\n",
       "  </tbody>\n",
       "</table>\n",
       "</div>"
      ],
      "text/plain": [
       "                                                    TITLE  EXCEDIDO     SCORE\n",
       "93002   Fogão Cooktop 5 Bocas Preto Askoi  - 1 Ano De ...         1  0.945979\n",
       "23802   Roçadeira À Gasolina 1 Hp 26 Cc 2 Tempos Tbc26...         1  0.999443\n",
       "206236  Tapete De Atividades Gymini Move Play - Tiny Love         1  0.984532\n",
       "174806  Monitor Samsung Led 27'' Full Hd Curved  + Not...         1  0.992743\n",
       "260425  Banqueta Junko Marrom Caputino Mercado De Pont...         1  0.999735\n",
       "31769   Arara Roupas 100% Aço C/ Sapateira Cabideiro R...         1  0.999132\n",
       "274465  Friso Lateral Etios Hatch 13 A 19 Vermelho Fur...         1  0.522903\n",
       "126732  Jogo 3 Prat. Mdf Kit Organiz. Parede Invis. 60...         1  0.924078\n",
       "189260                    Monitores Mackie Cr3 Caixas Som         1  0.907548\n",
       "45948   Taco Sinuca / Bilhar Profissional Cruz De Malt...         1  0.980295"
      ]
     },
     "execution_count": 30,
     "metadata": {},
     "output_type": "execute_result"
    }
   ],
   "source": [
    "df[df.EXCEDIDO==1][['TITLE','EXCEDIDO','SCORE']].sample(10)"
   ]
  },
  {
   "cell_type": "code",
   "execution_count": 31,
   "metadata": {},
   "outputs": [
    {
     "data": {
      "text/html": [
       "<div>\n",
       "<style scoped>\n",
       "    .dataframe tbody tr th:only-of-type {\n",
       "        vertical-align: middle;\n",
       "    }\n",
       "\n",
       "    .dataframe tbody tr th {\n",
       "        vertical-align: top;\n",
       "    }\n",
       "\n",
       "    .dataframe thead th {\n",
       "        text-align: right;\n",
       "    }\n",
       "</style>\n",
       "<table border=\"1\" class=\"dataframe\">\n",
       "  <thead>\n",
       "    <tr style=\"text-align: right;\">\n",
       "      <th>SCORE</th>\n",
       "      <th>False</th>\n",
       "      <th>True</th>\n",
       "    </tr>\n",
       "    <tr>\n",
       "      <th>EXCEDIDO</th>\n",
       "      <th></th>\n",
       "      <th></th>\n",
       "    </tr>\n",
       "  </thead>\n",
       "  <tbody>\n",
       "    <tr>\n",
       "      <td>0</td>\n",
       "      <td>19520</td>\n",
       "      <td>263460</td>\n",
       "    </tr>\n",
       "    <tr>\n",
       "      <td>1</td>\n",
       "      <td>12704</td>\n",
       "      <td>607</td>\n",
       "    </tr>\n",
       "  </tbody>\n",
       "</table>\n",
       "</div>"
      ],
      "text/plain": [
       "SCORE     False   True \n",
       "EXCEDIDO               \n",
       "0         19520  263460\n",
       "1         12704     607"
      ]
     },
     "execution_count": 31,
     "metadata": {},
     "output_type": "execute_result"
    }
   ],
   "source": [
    "pd.crosstab(df.EXCEDIDO, df.SCORE<0.5)"
   ]
  },
  {
   "cell_type": "markdown",
   "metadata": {},
   "source": [
    "#### Se observa que la mayoría de los envíos Excedidos tienen un score > 0.5"
   ]
  },
  {
   "cell_type": "code",
   "execution_count": 32,
   "metadata": {},
   "outputs": [
    {
     "data": {
      "text/plain": [
       "0.9543986176846218"
      ]
     },
     "execution_count": 32,
     "metadata": {},
     "output_type": "execute_result"
    }
   ],
   "source": [
    "recall = (df[df.EXCEDIDO==1].SCORE > 0.5).sum() / df.EXCEDIDO.sum() \n",
    "recall"
   ]
  },
  {
   "cell_type": "code",
   "execution_count": null,
   "metadata": {},
   "outputs": [],
   "source": []
  },
  {
   "cell_type": "code",
   "execution_count": 33,
   "metadata": {},
   "outputs": [
    {
     "name": "stdout",
     "output_type": "stream",
     "text": [
      "(296291, 17)\n",
      "ITEM_ID          object\n",
      "SHP_WEIGHT      float64\n",
      "SHP_LENGTH      float64\n",
      "SHP_WIDTH       float64\n",
      "SHP_HEIGHT      float64\n",
      "PRICE           float64\n",
      "STATUS           object\n",
      "TITLE            object\n",
      "LEN_ATR           int64\n",
      "DT_CAT_PROD      object\n",
      "DT_CONDITION     object\n",
      "DT_DOMAIN        object\n",
      "DT_SELLER        object\n",
      "DT_BRAND         object\n",
      "DT_MODEL         object\n",
      "EXCEDIDO          int64\n",
      "SCORE           float32\n",
      "dtype: object\n"
     ]
    },
    {
     "data": {
      "text/html": [
       "<div>\n",
       "<style scoped>\n",
       "    .dataframe tbody tr th:only-of-type {\n",
       "        vertical-align: middle;\n",
       "    }\n",
       "\n",
       "    .dataframe tbody tr th {\n",
       "        vertical-align: top;\n",
       "    }\n",
       "\n",
       "    .dataframe thead th {\n",
       "        text-align: right;\n",
       "    }\n",
       "</style>\n",
       "<table border=\"1\" class=\"dataframe\">\n",
       "  <thead>\n",
       "    <tr style=\"text-align: right;\">\n",
       "      <th></th>\n",
       "      <th>ITEM_ID</th>\n",
       "      <th>SHP_WEIGHT</th>\n",
       "      <th>SHP_LENGTH</th>\n",
       "      <th>SHP_WIDTH</th>\n",
       "      <th>SHP_HEIGHT</th>\n",
       "      <th>PRICE</th>\n",
       "      <th>STATUS</th>\n",
       "      <th>TITLE</th>\n",
       "      <th>LEN_ATR</th>\n",
       "      <th>DT_CAT_PROD</th>\n",
       "      <th>DT_CONDITION</th>\n",
       "      <th>DT_DOMAIN</th>\n",
       "      <th>DT_SELLER</th>\n",
       "      <th>DT_BRAND</th>\n",
       "      <th>DT_MODEL</th>\n",
       "      <th>EXCEDIDO</th>\n",
       "      <th>SCORE</th>\n",
       "    </tr>\n",
       "  </thead>\n",
       "  <tbody>\n",
       "    <tr>\n",
       "      <td>275991</td>\n",
       "      <td>VC8J8F1DA0</td>\n",
       "      <td>131.0</td>\n",
       "      <td>16.0</td>\n",
       "      <td>11.0</td>\n",
       "      <td>11.0</td>\n",
       "      <td>NaN</td>\n",
       "      <td>under_review</td>\n",
       "      <td>Anycast Adaptador Hdmi Chromecast Ezcast Wecas...</td>\n",
       "      <td>0</td>\n",
       "      <td>H53U1H7Q5G</td>\n",
       "      <td>SIN_DATOS</td>\n",
       "      <td>SIN_DATOS</td>\n",
       "      <td>OTROS</td>\n",
       "      <td>SIN_DATOS</td>\n",
       "      <td>SIN_DATOS</td>\n",
       "      <td>0</td>\n",
       "      <td>0.000423</td>\n",
       "    </tr>\n",
       "    <tr>\n",
       "      <td>200105</td>\n",
       "      <td>PF25P0XN2O</td>\n",
       "      <td>60.0</td>\n",
       "      <td>26.5</td>\n",
       "      <td>10.8</td>\n",
       "      <td>5.0</td>\n",
       "      <td>45.00</td>\n",
       "      <td>active</td>\n",
       "      <td>Dremel Ez476 Disco De Corte P/ Plástico Ez Loc...</td>\n",
       "      <td>13</td>\n",
       "      <td>H53U1H7Q5G</td>\n",
       "      <td>new</td>\n",
       "      <td>MLB-CUT_OFF_WHEELS</td>\n",
       "      <td>XYDSNCU3UV</td>\n",
       "      <td>DREMEL</td>\n",
       "      <td>OTROS</td>\n",
       "      <td>0</td>\n",
       "      <td>0.000555</td>\n",
       "    </tr>\n",
       "    <tr>\n",
       "      <td>89950</td>\n",
       "      <td>S4R3EF5I4W</td>\n",
       "      <td>1740.0</td>\n",
       "      <td>16.0</td>\n",
       "      <td>11.0</td>\n",
       "      <td>4.0</td>\n",
       "      <td>NaN</td>\n",
       "      <td>under_review</td>\n",
       "      <td>Kit 10 Lâmpada 16w Branco Quente Led 4u Milho ...</td>\n",
       "      <td>0</td>\n",
       "      <td>H53U1H7Q5G</td>\n",
       "      <td>SIN_DATOS</td>\n",
       "      <td>SIN_DATOS</td>\n",
       "      <td>GA9FI6X2KH</td>\n",
       "      <td>SIN_DATOS</td>\n",
       "      <td>SIN_DATOS</td>\n",
       "      <td>0</td>\n",
       "      <td>0.292742</td>\n",
       "    </tr>\n",
       "    <tr>\n",
       "      <td>184942</td>\n",
       "      <td>TP62F8P7C5</td>\n",
       "      <td>1640.0</td>\n",
       "      <td>33.0</td>\n",
       "      <td>25.0</td>\n",
       "      <td>7.0</td>\n",
       "      <td>48.00</td>\n",
       "      <td>active</td>\n",
       "      <td>Kit 2 Bucha Barra Estabilizador Dianteiro Peug...</td>\n",
       "      <td>10</td>\n",
       "      <td>H53U1H7Q5G</td>\n",
       "      <td>new</td>\n",
       "      <td>MLB-SUSPENSION_CONTROL_ARM_BUSHINGS</td>\n",
       "      <td>EYBX2QNZ29</td>\n",
       "      <td>OTROS</td>\n",
       "      <td>SIN_DATOS</td>\n",
       "      <td>0</td>\n",
       "      <td>0.003401</td>\n",
       "    </tr>\n",
       "    <tr>\n",
       "      <td>146320</td>\n",
       "      <td>Y7N6ZGWAGZ</td>\n",
       "      <td>1970.0</td>\n",
       "      <td>45.0</td>\n",
       "      <td>22.0</td>\n",
       "      <td>20.0</td>\n",
       "      <td>159.99</td>\n",
       "      <td>paused</td>\n",
       "      <td>Maleta Maquiagem Profissional A87 C/ Kit 12 Pi...</td>\n",
       "      <td>8</td>\n",
       "      <td>H53U1H7Q5G</td>\n",
       "      <td>new</td>\n",
       "      <td>MLB-MAKEUP_TRAIN_CASES</td>\n",
       "      <td>XJC5VFREEM</td>\n",
       "      <td>OTROS</td>\n",
       "      <td>OTROS</td>\n",
       "      <td>0</td>\n",
       "      <td>0.000445</td>\n",
       "    </tr>\n",
       "  </tbody>\n",
       "</table>\n",
       "</div>"
      ],
      "text/plain": [
       "           ITEM_ID  SHP_WEIGHT  SHP_LENGTH  SHP_WIDTH  SHP_HEIGHT   PRICE  \\\n",
       "275991  VC8J8F1DA0       131.0        16.0       11.0        11.0     NaN   \n",
       "200105  PF25P0XN2O        60.0        26.5       10.8         5.0   45.00   \n",
       "89950   S4R3EF5I4W      1740.0        16.0       11.0         4.0     NaN   \n",
       "184942  TP62F8P7C5      1640.0        33.0       25.0         7.0   48.00   \n",
       "146320  Y7N6ZGWAGZ      1970.0        45.0       22.0        20.0  159.99   \n",
       "\n",
       "              STATUS                                              TITLE  \\\n",
       "275991  under_review  Anycast Adaptador Hdmi Chromecast Ezcast Wecas...   \n",
       "200105        active  Dremel Ez476 Disco De Corte P/ Plástico Ez Loc...   \n",
       "89950   under_review  Kit 10 Lâmpada 16w Branco Quente Led 4u Milho ...   \n",
       "184942        active  Kit 2 Bucha Barra Estabilizador Dianteiro Peug...   \n",
       "146320        paused  Maleta Maquiagem Profissional A87 C/ Kit 12 Pi...   \n",
       "\n",
       "        LEN_ATR DT_CAT_PROD DT_CONDITION                            DT_DOMAIN  \\\n",
       "275991        0  H53U1H7Q5G    SIN_DATOS                            SIN_DATOS   \n",
       "200105       13  H53U1H7Q5G          new                   MLB-CUT_OFF_WHEELS   \n",
       "89950         0  H53U1H7Q5G    SIN_DATOS                            SIN_DATOS   \n",
       "184942       10  H53U1H7Q5G          new  MLB-SUSPENSION_CONTROL_ARM_BUSHINGS   \n",
       "146320        8  H53U1H7Q5G          new               MLB-MAKEUP_TRAIN_CASES   \n",
       "\n",
       "         DT_SELLER   DT_BRAND   DT_MODEL  EXCEDIDO     SCORE  \n",
       "275991       OTROS  SIN_DATOS  SIN_DATOS         0  0.000423  \n",
       "200105  XYDSNCU3UV     DREMEL      OTROS         0  0.000555  \n",
       "89950   GA9FI6X2KH  SIN_DATOS  SIN_DATOS         0  0.292742  \n",
       "184942  EYBX2QNZ29      OTROS  SIN_DATOS         0  0.003401  \n",
       "146320  XJC5VFREEM      OTROS      OTROS         0  0.000445  "
      ]
     },
     "metadata": {},
     "output_type": "display_data"
    }
   ],
   "source": [
    "#Resultado Dataset\n",
    "print(df.shape)\n",
    "print(df.dtypes)\n",
    "display(df.sample(5))"
   ]
  },
  {
   "cell_type": "code",
   "execution_count": 34,
   "metadata": {},
   "outputs": [],
   "source": [
    "#Exportar dataset revisado\n",
    "cols=['ITEM_ID', 'SHP_WEIGHT', 'SHP_LENGTH', 'SHP_WIDTH', 'SHP_HEIGHT', 'PRICE', 'STATUS', 'TITLE', 'LEN_ATR', \n",
    "      'DT_CAT_PROD', 'DT_CONDITION', 'DT_DOMAIN', 'DT_SELLER', 'DT_BRAND', 'DT_MODEL', 'SCORE', 'EXCEDIDO']"
   ]
  },
  {
   "cell_type": "code",
   "execution_count": 35,
   "metadata": {},
   "outputs": [],
   "source": [
    "df[cols].to_csv('./meli_dataset_b.csv', index=False)"
   ]
  },
  {
   "cell_type": "code",
   "execution_count": null,
   "metadata": {},
   "outputs": [],
   "source": []
  }
 ],
 "metadata": {
  "kernelspec": {
   "display_name": "Python 3",
   "language": "python",
   "name": "python3"
  },
  "language_info": {
   "codemirror_mode": {
    "name": "ipython",
    "version": 3
   },
   "file_extension": ".py",
   "mimetype": "text/x-python",
   "name": "python",
   "nbconvert_exporter": "python",
   "pygments_lexer": "ipython3",
   "version": "3.7.1"
  }
 },
 "nbformat": 4,
 "nbformat_minor": 2
}
