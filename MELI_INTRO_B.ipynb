{
 "cells": [
  {
   "cell_type": "markdown",
   "metadata": {},
   "source": [
    "#### Columnas Originales\n",
    "\n",
    "* ITEM_ID: id unívoco de cada item publicado. (Ofuscado)\n",
    "* SHP_WEIGHT: peso del paquete informado por el correo.\n",
    "* SHP_LENGTH: largo del paquete informado por el correo.\n",
    "* SHP_WIDTH: ancho del paquete informado por el correo.\n",
    "* SHP_HEIGHT: altura del paquete informado por el correo.\n",
    "* ATTRIBUTES: atributos como marca y modelo, entre otros, en formato json-lines\n",
    "* CATALOG_PRODUCT_ID: id del catálogo (ofuscado).\n",
    "* CONDITION: condición de venta (nuevo o usado).\n",
    "* DOMAIN_ID: id de la categoría a la que pertenece la publicación.\n",
    "* PRICE: precio en reales.\n",
    "* SELLER_ID: id del vendedor (ofuscado).\n",
    "* STATUS: estado de la publicación (activa, cerrada, pausada, etc.)\n",
    "* TITLE: título de la publicación.\n",
    "\n",
    "\n",
    "#### Columnas Actuales\n",
    "\n",
    "* ITEM_ID\n",
    "* SHP_WEIGHT\n",
    "* SHP_LENGTH\n",
    "* SHP_WIDTH\n",
    "* SHP_HEIGHT\n",
    "* RV_PRICE, precio revisado\n",
    "* STATUS\n",
    "* TITLE\n",
    "* LEN_ATR: cantidad de atributos\n",
    "* DT_CAT_PROD: ID Catalogo del Producto-Revisado\n",
    "* DT_CONDITION: Condición de Venta -Revisado\n",
    "* DT_DOMAIN: Categoría de la Publicación -Revisado\n",
    "* DT_SELLER: ID Vendedor -Revisado\n",
    "* DT_BRAND: Marca del Producto -Revisado\n",
    "* DT_MODEL: Modelo del Producto -Revisado\n",
    "* SCORE: Peso ponderado del Título de la publicación sobre si excede la dimensión máxima\n",
    "* EXCEDIDO: Si el producto excede el límite del correo\n"
   ]
  },
  {
   "cell_type": "code",
   "execution_count": 1,
   "metadata": {},
   "outputs": [],
   "source": [
    "import warnings\n",
    "warnings.filterwarnings('ignore')\n",
    "\n",
    "import pandas as pd\n",
    "import numpy as np\n",
    "from sklearn import preprocessing\n",
    "\n",
    "import random\n",
    "random.seed(0)\n",
    "\n",
    "import matplotlib.pyplot as plt\n",
    "import seaborn as sns"
   ]
  },
  {
   "cell_type": "code",
   "execution_count": 2,
   "metadata": {},
   "outputs": [],
   "source": [
    "DATASET = 'meli_dataset_c.csv'"
   ]
  },
  {
   "cell_type": "code",
   "execution_count": 3,
   "metadata": {},
   "outputs": [],
   "source": [
    "#Recupero Dataset\n",
    "df_raw = pd.read_csv(DATASET, low_memory=False)\n",
    "df_base = df_raw.copy()"
   ]
  },
  {
   "cell_type": "code",
   "execution_count": 4,
   "metadata": {},
   "outputs": [
    {
     "name": "stdout",
     "output_type": "stream",
     "text": [
      "(296291, 17)\n",
      "ITEM_ID          object\n",
      "SHP_WEIGHT      float64\n",
      "SHP_LENGTH      float64\n",
      "SHP_WIDTH       float64\n",
      "SHP_HEIGHT      float64\n",
      "RV_PRICE        float64\n",
      "STATUS           object\n",
      "TITLE            object\n",
      "LEN_ATR           int64\n",
      "DT_CAT_PROD      object\n",
      "DT_CONDITION     object\n",
      "DT_DOMAIN        object\n",
      "DT_SELLER        object\n",
      "DT_BRAND         object\n",
      "DT_MODEL         object\n",
      "SCORE           float64\n",
      "EXCEDIDO          int64\n",
      "dtype: object\n"
     ]
    },
    {
     "data": {
      "text/html": [
       "<div>\n",
       "<style scoped>\n",
       "    .dataframe tbody tr th:only-of-type {\n",
       "        vertical-align: middle;\n",
       "    }\n",
       "\n",
       "    .dataframe tbody tr th {\n",
       "        vertical-align: top;\n",
       "    }\n",
       "\n",
       "    .dataframe thead th {\n",
       "        text-align: right;\n",
       "    }\n",
       "</style>\n",
       "<table border=\"1\" class=\"dataframe\">\n",
       "  <thead>\n",
       "    <tr style=\"text-align: right;\">\n",
       "      <th></th>\n",
       "      <th>ITEM_ID</th>\n",
       "      <th>SHP_WEIGHT</th>\n",
       "      <th>SHP_LENGTH</th>\n",
       "      <th>SHP_WIDTH</th>\n",
       "      <th>SHP_HEIGHT</th>\n",
       "      <th>RV_PRICE</th>\n",
       "      <th>STATUS</th>\n",
       "      <th>TITLE</th>\n",
       "      <th>LEN_ATR</th>\n",
       "      <th>DT_CAT_PROD</th>\n",
       "      <th>DT_CONDITION</th>\n",
       "      <th>DT_DOMAIN</th>\n",
       "      <th>DT_SELLER</th>\n",
       "      <th>DT_BRAND</th>\n",
       "      <th>DT_MODEL</th>\n",
       "      <th>SCORE</th>\n",
       "      <th>EXCEDIDO</th>\n",
       "    </tr>\n",
       "  </thead>\n",
       "  <tbody>\n",
       "    <tr>\n",
       "      <td>150759</td>\n",
       "      <td>MOBJCHB1B5</td>\n",
       "      <td>4380.0</td>\n",
       "      <td>58.0</td>\n",
       "      <td>36.0</td>\n",
       "      <td>16.0</td>\n",
       "      <td>214.99</td>\n",
       "      <td>paused</td>\n",
       "      <td>Jogo De Panela Aluminio Rev. Cerâmica Frete Grais</td>\n",
       "      <td>16</td>\n",
       "      <td>H53U1H7Q5G</td>\n",
       "      <td>new</td>\n",
       "      <td>MLB-KITCHEN_POTS</td>\n",
       "      <td>OTROS</td>\n",
       "      <td>CLINK</td>\n",
       "      <td>OTROS</td>\n",
       "      <td>0.003833</td>\n",
       "      <td>0</td>\n",
       "    </tr>\n",
       "    <tr>\n",
       "      <td>107576</td>\n",
       "      <td>FH98XCG3HB</td>\n",
       "      <td>9880.0</td>\n",
       "      <td>78.0</td>\n",
       "      <td>18.0</td>\n",
       "      <td>4.0</td>\n",
       "      <td>64.90</td>\n",
       "      <td>active</td>\n",
       "      <td>Estante Expositor 5 Prateleiras 100 Esmaltes 6...</td>\n",
       "      <td>12</td>\n",
       "      <td>H53U1H7Q5G</td>\n",
       "      <td>new</td>\n",
       "      <td>OTROS</td>\n",
       "      <td>TYAQEEJ32G</td>\n",
       "      <td>OTROS</td>\n",
       "      <td>OTROS</td>\n",
       "      <td>0.999619</td>\n",
       "      <td>1</td>\n",
       "    </tr>\n",
       "    <tr>\n",
       "      <td>184264</td>\n",
       "      <td>TW4WBVVKXT</td>\n",
       "      <td>158.0</td>\n",
       "      <td>16.0</td>\n",
       "      <td>16.0</td>\n",
       "      <td>5.0</td>\n",
       "      <td>517.00</td>\n",
       "      <td>active</td>\n",
       "      <td>45 Mochilas Mochilinhas Personalizadas</td>\n",
       "      <td>9</td>\n",
       "      <td>H53U1H7Q5G</td>\n",
       "      <td>new</td>\n",
       "      <td>MLB-COMMERCIAL_AND_EVENT_BAGS</td>\n",
       "      <td>OTROS</td>\n",
       "      <td>OTROS</td>\n",
       "      <td>OTROS</td>\n",
       "      <td>0.097336</td>\n",
       "      <td>0</td>\n",
       "    </tr>\n",
       "    <tr>\n",
       "      <td>259210</td>\n",
       "      <td>JT3PMCOZVW</td>\n",
       "      <td>70.0</td>\n",
       "      <td>16.0</td>\n",
       "      <td>11.0</td>\n",
       "      <td>10.0</td>\n",
       "      <td>59.90</td>\n",
       "      <td>closed</td>\n",
       "      <td>Chave Canivete Mitsubishi Triton 2 Botões</td>\n",
       "      <td>1</td>\n",
       "      <td>H53U1H7Q5G</td>\n",
       "      <td>new</td>\n",
       "      <td>MLB-VEHICLE_PARTS</td>\n",
       "      <td>OTROS</td>\n",
       "      <td>SIN_DATOS</td>\n",
       "      <td>SIN_DATOS</td>\n",
       "      <td>0.006148</td>\n",
       "      <td>0</td>\n",
       "    </tr>\n",
       "    <tr>\n",
       "      <td>28789</td>\n",
       "      <td>CMCPRJ4YUX</td>\n",
       "      <td>990.0</td>\n",
       "      <td>39.0</td>\n",
       "      <td>29.0</td>\n",
       "      <td>18.0</td>\n",
       "      <td>89.00</td>\n",
       "      <td>paused</td>\n",
       "      <td>Bolsa Case P/ Câmera Fotográfica Dslr Nikon Ca...</td>\n",
       "      <td>18</td>\n",
       "      <td>OTROS</td>\n",
       "      <td>new</td>\n",
       "      <td>MLB-CAMERA_BAGS</td>\n",
       "      <td>OTROS</td>\n",
       "      <td>OTROS</td>\n",
       "      <td>OTROS</td>\n",
       "      <td>0.078064</td>\n",
       "      <td>0</td>\n",
       "    </tr>\n",
       "  </tbody>\n",
       "</table>\n",
       "</div>"
      ],
      "text/plain": [
       "           ITEM_ID  SHP_WEIGHT  SHP_LENGTH  SHP_WIDTH  SHP_HEIGHT  RV_PRICE  \\\n",
       "150759  MOBJCHB1B5      4380.0        58.0       36.0        16.0    214.99   \n",
       "107576  FH98XCG3HB      9880.0        78.0       18.0         4.0     64.90   \n",
       "184264  TW4WBVVKXT       158.0        16.0       16.0         5.0    517.00   \n",
       "259210  JT3PMCOZVW        70.0        16.0       11.0        10.0     59.90   \n",
       "28789   CMCPRJ4YUX       990.0        39.0       29.0        18.0     89.00   \n",
       "\n",
       "        STATUS                                              TITLE  LEN_ATR  \\\n",
       "150759  paused  Jogo De Panela Aluminio Rev. Cerâmica Frete Grais       16   \n",
       "107576  active  Estante Expositor 5 Prateleiras 100 Esmaltes 6...       12   \n",
       "184264  active             45 Mochilas Mochilinhas Personalizadas        9   \n",
       "259210  closed          Chave Canivete Mitsubishi Triton 2 Botões        1   \n",
       "28789   paused  Bolsa Case P/ Câmera Fotográfica Dslr Nikon Ca...       18   \n",
       "\n",
       "       DT_CAT_PROD DT_CONDITION                      DT_DOMAIN   DT_SELLER  \\\n",
       "150759  H53U1H7Q5G          new               MLB-KITCHEN_POTS       OTROS   \n",
       "107576  H53U1H7Q5G          new                          OTROS  TYAQEEJ32G   \n",
       "184264  H53U1H7Q5G          new  MLB-COMMERCIAL_AND_EVENT_BAGS       OTROS   \n",
       "259210  H53U1H7Q5G          new              MLB-VEHICLE_PARTS       OTROS   \n",
       "28789        OTROS          new                MLB-CAMERA_BAGS       OTROS   \n",
       "\n",
       "         DT_BRAND   DT_MODEL     SCORE  EXCEDIDO  \n",
       "150759      CLINK      OTROS  0.003833         0  \n",
       "107576      OTROS      OTROS  0.999619         1  \n",
       "184264      OTROS      OTROS  0.097336         0  \n",
       "259210  SIN_DATOS  SIN_DATOS  0.006148         0  \n",
       "28789       OTROS      OTROS  0.078064         0  "
      ]
     },
     "metadata": {},
     "output_type": "display_data"
    }
   ],
   "source": [
    "print(df_base.shape)\n",
    "print(df_base.dtypes)\n",
    "display(df_base.sample(5))"
   ]
  },
  {
   "cell_type": "code",
   "execution_count": null,
   "metadata": {},
   "outputs": [],
   "source": []
  },
  {
   "cell_type": "markdown",
   "metadata": {},
   "source": [
    "1. Definimos las columnas a utilizar para los modelos:\n",
    "\n",
    "Descartados:\n",
    "* ITEM_ID,  es la publicación y consideramos que \n",
    "* SHP_WEIGHT, no se conoce, es info del correo \n",
    "* SHP_LENGTH, idem\n",
    "* SHP_WIDTH, idem\n",
    "* SHP_HEIGHT, idem\n",
    "* TITLE\n",
    "* SCORE, lo exluimos para determinar que impacto tiene\n",
    "* EXCEDIDO: creamos el atributo NO_MAQUINABLE como dato lógico\n",
    "\n",
    "Consideramos:\n",
    "* RV_PRICE\n",
    "* LEN_ATR cantidad de atributos\n",
    "* STATUS\n",
    "* DT_CAT_PROD: ID Catalogo del Producto-Revisado\n",
    "* DT_CONDITION: Condición de Venta -Revisado\n",
    "* DT_DOMAIN: Categoría de la Publicación -Revisado\n",
    "* DT_SELLER: ID Vendedor -Revisado\n",
    "* DT_BRAND: Marca del Producto -Revisado\n",
    "* DT_MODEL: Modelo del Producto -Revisado\n",
    "* NO_MAQUINABLE: "
   ]
  },
  {
   "cell_type": "code",
   "execution_count": 5,
   "metadata": {},
   "outputs": [],
   "source": [
    "#Pasamos la variable EXCEDIDO a lógica\n",
    "df_base['NO_MAQUINABLE']=(df_base.EXCEDIDO == 1)"
   ]
  },
  {
   "cell_type": "code",
   "execution_count": 6,
   "metadata": {},
   "outputs": [
    {
     "data": {
      "text/html": [
       "<div>\n",
       "<style scoped>\n",
       "    .dataframe tbody tr th:only-of-type {\n",
       "        vertical-align: middle;\n",
       "    }\n",
       "\n",
       "    .dataframe tbody tr th {\n",
       "        vertical-align: top;\n",
       "    }\n",
       "\n",
       "    .dataframe thead th {\n",
       "        text-align: right;\n",
       "    }\n",
       "</style>\n",
       "<table border=\"1\" class=\"dataframe\">\n",
       "  <thead>\n",
       "    <tr style=\"text-align: right;\">\n",
       "      <th></th>\n",
       "      <th>NO_MAQUINABLE</th>\n",
       "      <th>EXCEDIDO</th>\n",
       "    </tr>\n",
       "  </thead>\n",
       "  <tbody>\n",
       "    <tr>\n",
       "      <td>173881</td>\n",
       "      <td>False</td>\n",
       "      <td>0</td>\n",
       "    </tr>\n",
       "    <tr>\n",
       "      <td>107031</td>\n",
       "      <td>False</td>\n",
       "      <td>0</td>\n",
       "    </tr>\n",
       "    <tr>\n",
       "      <td>59101</td>\n",
       "      <td>False</td>\n",
       "      <td>0</td>\n",
       "    </tr>\n",
       "    <tr>\n",
       "      <td>226472</td>\n",
       "      <td>False</td>\n",
       "      <td>0</td>\n",
       "    </tr>\n",
       "    <tr>\n",
       "      <td>70876</td>\n",
       "      <td>False</td>\n",
       "      <td>0</td>\n",
       "    </tr>\n",
       "  </tbody>\n",
       "</table>\n",
       "</div>"
      ],
      "text/plain": [
       "        NO_MAQUINABLE  EXCEDIDO\n",
       "173881          False         0\n",
       "107031          False         0\n",
       "59101           False         0\n",
       "226472          False         0\n",
       "70876           False         0"
      ]
     },
     "execution_count": 6,
     "metadata": {},
     "output_type": "execute_result"
    }
   ],
   "source": [
    "df_base[ ['NO_MAQUINABLE','EXCEDIDO'] ].sample(5)"
   ]
  },
  {
   "cell_type": "code",
   "execution_count": 7,
   "metadata": {},
   "outputs": [],
   "source": [
    "col_categorias=['STATUS','DT_CAT_PROD','DT_CONDITION','DT_DOMAIN','DT_SELLER','DT_BRAND','DT_MODEL']\n",
    "col_continuas=['RV_PRICE','LEN_ATR']\n",
    "col_x = col_continuas + col_categorias \n",
    "col_y = ['NO_MAQUINABLE']"
   ]
  },
  {
   "cell_type": "code",
   "execution_count": 8,
   "metadata": {},
   "outputs": [],
   "source": [
    "df_modelo=df_base[col_x + col_y]"
   ]
  },
  {
   "cell_type": "code",
   "execution_count": 9,
   "metadata": {},
   "outputs": [
    {
     "name": "stdout",
     "output_type": "stream",
     "text": [
      "(296291, 10)\n",
      "RV_PRICE         float64\n",
      "LEN_ATR            int64\n",
      "STATUS            object\n",
      "DT_CAT_PROD       object\n",
      "DT_CONDITION      object\n",
      "DT_DOMAIN         object\n",
      "DT_SELLER         object\n",
      "DT_BRAND          object\n",
      "DT_MODEL          object\n",
      "NO_MAQUINABLE       bool\n",
      "dtype: object\n"
     ]
    }
   ],
   "source": [
    "print(df_modelo.shape)\n",
    "print(df_modelo.dtypes)"
   ]
  },
  {
   "cell_type": "markdown",
   "metadata": {},
   "source": [
    "2. Armamos conjuntos de entreamiento y validación"
   ]
  },
  {
   "cell_type": "code",
   "execution_count": 10,
   "metadata": {},
   "outputs": [],
   "source": [
    "from sklearn.preprocessing import StandardScaler, MinMaxScaler "
   ]
  },
  {
   "cell_type": "code",
   "execution_count": 11,
   "metadata": {},
   "outputs": [
    {
     "name": "stdout",
     "output_type": "stream",
     "text": [
      "(296291, 2)\n"
     ]
    },
    {
     "data": {
      "text/html": [
       "<div>\n",
       "<style scoped>\n",
       "    .dataframe tbody tr th:only-of-type {\n",
       "        vertical-align: middle;\n",
       "    }\n",
       "\n",
       "    .dataframe tbody tr th {\n",
       "        vertical-align: top;\n",
       "    }\n",
       "\n",
       "    .dataframe thead th {\n",
       "        text-align: right;\n",
       "    }\n",
       "</style>\n",
       "<table border=\"1\" class=\"dataframe\">\n",
       "  <thead>\n",
       "    <tr style=\"text-align: right;\">\n",
       "      <th></th>\n",
       "      <th>RV_PRICE</th>\n",
       "      <th>LEN_ATR</th>\n",
       "    </tr>\n",
       "  </thead>\n",
       "  <tbody>\n",
       "    <tr>\n",
       "      <td>0</td>\n",
       "      <td>68.0</td>\n",
       "      <td>6</td>\n",
       "    </tr>\n",
       "    <tr>\n",
       "      <td>1</td>\n",
       "      <td>145.9</td>\n",
       "      <td>9</td>\n",
       "    </tr>\n",
       "    <tr>\n",
       "      <td>2</td>\n",
       "      <td>145.9</td>\n",
       "      <td>9</td>\n",
       "    </tr>\n",
       "    <tr>\n",
       "      <td>3</td>\n",
       "      <td>145.9</td>\n",
       "      <td>9</td>\n",
       "    </tr>\n",
       "    <tr>\n",
       "      <td>4</td>\n",
       "      <td>145.9</td>\n",
       "      <td>9</td>\n",
       "    </tr>\n",
       "  </tbody>\n",
       "</table>\n",
       "</div>"
      ],
      "text/plain": [
       "   RV_PRICE  LEN_ATR\n",
       "0      68.0        6\n",
       "1     145.9        9\n",
       "2     145.9        9\n",
       "3     145.9        9\n",
       "4     145.9        9"
      ]
     },
     "metadata": {},
     "output_type": "display_data"
    },
    {
     "data": {
      "text/html": [
       "<div>\n",
       "<style scoped>\n",
       "    .dataframe tbody tr th:only-of-type {\n",
       "        vertical-align: middle;\n",
       "    }\n",
       "\n",
       "    .dataframe tbody tr th {\n",
       "        vertical-align: top;\n",
       "    }\n",
       "\n",
       "    .dataframe thead th {\n",
       "        text-align: right;\n",
       "    }\n",
       "</style>\n",
       "<table border=\"1\" class=\"dataframe\">\n",
       "  <thead>\n",
       "    <tr style=\"text-align: right;\">\n",
       "      <th></th>\n",
       "      <th>RV_PRICE</th>\n",
       "      <th>LEN_ATR</th>\n",
       "    </tr>\n",
       "  </thead>\n",
       "  <tbody>\n",
       "    <tr>\n",
       "      <td>0</td>\n",
       "      <td>0.002263</td>\n",
       "      <td>0.10</td>\n",
       "    </tr>\n",
       "    <tr>\n",
       "      <td>1</td>\n",
       "      <td>0.004860</td>\n",
       "      <td>0.15</td>\n",
       "    </tr>\n",
       "    <tr>\n",
       "      <td>2</td>\n",
       "      <td>0.004860</td>\n",
       "      <td>0.15</td>\n",
       "    </tr>\n",
       "    <tr>\n",
       "      <td>3</td>\n",
       "      <td>0.004860</td>\n",
       "      <td>0.15</td>\n",
       "    </tr>\n",
       "    <tr>\n",
       "      <td>4</td>\n",
       "      <td>0.004860</td>\n",
       "      <td>0.15</td>\n",
       "    </tr>\n",
       "  </tbody>\n",
       "</table>\n",
       "</div>"
      ],
      "text/plain": [
       "   RV_PRICE  LEN_ATR\n",
       "0  0.002263     0.10\n",
       "1  0.004860     0.15\n",
       "2  0.004860     0.15\n",
       "3  0.004860     0.15\n",
       "4  0.004860     0.15"
      ]
     },
     "metadata": {},
     "output_type": "display_data"
    },
    {
     "data": {
      "text/html": [
       "<div>\n",
       "<style scoped>\n",
       "    .dataframe tbody tr th:only-of-type {\n",
       "        vertical-align: middle;\n",
       "    }\n",
       "\n",
       "    .dataframe tbody tr th {\n",
       "        vertical-align: top;\n",
       "    }\n",
       "\n",
       "    .dataframe thead th {\n",
       "        text-align: right;\n",
       "    }\n",
       "</style>\n",
       "<table border=\"1\" class=\"dataframe\">\n",
       "  <thead>\n",
       "    <tr style=\"text-align: right;\">\n",
       "      <th></th>\n",
       "      <th>RV_PRICE</th>\n",
       "      <th>LEN_ATR</th>\n",
       "    </tr>\n",
       "  </thead>\n",
       "  <tbody>\n",
       "    <tr>\n",
       "      <td>count</td>\n",
       "      <td>296291.000000</td>\n",
       "      <td>296291.000000</td>\n",
       "    </tr>\n",
       "    <tr>\n",
       "      <td>mean</td>\n",
       "      <td>0.005810</td>\n",
       "      <td>0.131977</td>\n",
       "    </tr>\n",
       "    <tr>\n",
       "      <td>std</td>\n",
       "      <td>0.014117</td>\n",
       "      <td>0.094612</td>\n",
       "    </tr>\n",
       "    <tr>\n",
       "      <td>min</td>\n",
       "      <td>0.000000</td>\n",
       "      <td>0.000000</td>\n",
       "    </tr>\n",
       "    <tr>\n",
       "      <td>25%</td>\n",
       "      <td>0.001677</td>\n",
       "      <td>0.066667</td>\n",
       "    </tr>\n",
       "    <tr>\n",
       "      <td>50%</td>\n",
       "      <td>0.003437</td>\n",
       "      <td>0.133333</td>\n",
       "    </tr>\n",
       "    <tr>\n",
       "      <td>75%</td>\n",
       "      <td>0.005930</td>\n",
       "      <td>0.183333</td>\n",
       "    </tr>\n",
       "    <tr>\n",
       "      <td>max</td>\n",
       "      <td>1.000000</td>\n",
       "      <td>1.000000</td>\n",
       "    </tr>\n",
       "  </tbody>\n",
       "</table>\n",
       "</div>"
      ],
      "text/plain": [
       "            RV_PRICE        LEN_ATR\n",
       "count  296291.000000  296291.000000\n",
       "mean        0.005810       0.131977\n",
       "std         0.014117       0.094612\n",
       "min         0.000000       0.000000\n",
       "25%         0.001677       0.066667\n",
       "50%         0.003437       0.133333\n",
       "75%         0.005930       0.183333\n",
       "max         1.000000       1.000000"
      ]
     },
     "metadata": {},
     "output_type": "display_data"
    }
   ],
   "source": [
    "sMM=MinMaxScaler()\n",
    "Xcon = sMM.fit_transform(df_modelo[col_continuas])\n",
    "Xcon = pd.DataFrame(Xcon, columns=col_continuas)\n",
    "\n",
    "print(Xcon.shape)\n",
    "display(df_modelo[col_continuas].head(5))\n",
    "display(Xcon.head(5))\n",
    "display(Xcon.describe())"
   ]
  },
  {
   "cell_type": "code",
   "execution_count": 12,
   "metadata": {},
   "outputs": [
    {
     "name": "stdout",
     "output_type": "stream",
     "text": [
      "(296291, 4383)\n",
      "STATUS_active          Sparse[uint8, 0]\n",
      "STATUS_closed          Sparse[uint8, 0]\n",
      "STATUS_inactive        Sparse[uint8, 0]\n",
      "STATUS_paused          Sparse[uint8, 0]\n",
      "STATUS_under_review    Sparse[uint8, 0]\n",
      "                             ...       \n",
      "DT_MODEL_XTREME        Sparse[uint8, 0]\n",
      "DT_MODEL_X_PLAY        Sparse[uint8, 0]\n",
      "DT_MODEL__             Sparse[uint8, 0]\n",
      "RV_PRICE                        float64\n",
      "LEN_ATR                         float64\n",
      "Length: 4383, dtype: object\n"
     ]
    },
    {
     "data": {
      "text/html": [
       "<div>\n",
       "<style scoped>\n",
       "    .dataframe tbody tr th:only-of-type {\n",
       "        vertical-align: middle;\n",
       "    }\n",
       "\n",
       "    .dataframe tbody tr th {\n",
       "        vertical-align: top;\n",
       "    }\n",
       "\n",
       "    .dataframe thead th {\n",
       "        text-align: right;\n",
       "    }\n",
       "</style>\n",
       "<table border=\"1\" class=\"dataframe\">\n",
       "  <thead>\n",
       "    <tr style=\"text-align: right;\">\n",
       "      <th></th>\n",
       "      <th>STATUS_active</th>\n",
       "      <th>STATUS_closed</th>\n",
       "      <th>STATUS_inactive</th>\n",
       "      <th>STATUS_paused</th>\n",
       "      <th>STATUS_under_review</th>\n",
       "      <th>DT_CAT_PROD_B2BWER04UG</th>\n",
       "      <th>DT_CAT_PROD_B5O1R5Z1VR</th>\n",
       "      <th>DT_CAT_PROD_BF6NGKUMZ9</th>\n",
       "      <th>DT_CAT_PROD_BW4AU3M2JW</th>\n",
       "      <th>DT_CAT_PROD_CCDEBX4JCH</th>\n",
       "      <th>...</th>\n",
       "      <th>DT_MODEL_XBOX_360</th>\n",
       "      <th>DT_MODEL_XBOX_ONE</th>\n",
       "      <th>DT_MODEL_XBOX_ONE_S</th>\n",
       "      <th>DT_MODEL_XENON</th>\n",
       "      <th>DT_MODEL_XIAOMI</th>\n",
       "      <th>DT_MODEL_XTREME</th>\n",
       "      <th>DT_MODEL_X_PLAY</th>\n",
       "      <th>DT_MODEL__</th>\n",
       "      <th>RV_PRICE</th>\n",
       "      <th>LEN_ATR</th>\n",
       "    </tr>\n",
       "  </thead>\n",
       "  <tbody>\n",
       "    <tr>\n",
       "      <td>0</td>\n",
       "      <td>1</td>\n",
       "      <td>0</td>\n",
       "      <td>0</td>\n",
       "      <td>0</td>\n",
       "      <td>0</td>\n",
       "      <td>0</td>\n",
       "      <td>0</td>\n",
       "      <td>0</td>\n",
       "      <td>0</td>\n",
       "      <td>0</td>\n",
       "      <td>...</td>\n",
       "      <td>0</td>\n",
       "      <td>0</td>\n",
       "      <td>0</td>\n",
       "      <td>0</td>\n",
       "      <td>0</td>\n",
       "      <td>0</td>\n",
       "      <td>0</td>\n",
       "      <td>0</td>\n",
       "      <td>0.002263</td>\n",
       "      <td>0.10</td>\n",
       "    </tr>\n",
       "    <tr>\n",
       "      <td>1</td>\n",
       "      <td>1</td>\n",
       "      <td>0</td>\n",
       "      <td>0</td>\n",
       "      <td>0</td>\n",
       "      <td>0</td>\n",
       "      <td>0</td>\n",
       "      <td>0</td>\n",
       "      <td>0</td>\n",
       "      <td>0</td>\n",
       "      <td>0</td>\n",
       "      <td>...</td>\n",
       "      <td>0</td>\n",
       "      <td>0</td>\n",
       "      <td>0</td>\n",
       "      <td>0</td>\n",
       "      <td>0</td>\n",
       "      <td>0</td>\n",
       "      <td>0</td>\n",
       "      <td>0</td>\n",
       "      <td>0.004860</td>\n",
       "      <td>0.15</td>\n",
       "    </tr>\n",
       "    <tr>\n",
       "      <td>2</td>\n",
       "      <td>1</td>\n",
       "      <td>0</td>\n",
       "      <td>0</td>\n",
       "      <td>0</td>\n",
       "      <td>0</td>\n",
       "      <td>0</td>\n",
       "      <td>0</td>\n",
       "      <td>0</td>\n",
       "      <td>0</td>\n",
       "      <td>0</td>\n",
       "      <td>...</td>\n",
       "      <td>0</td>\n",
       "      <td>0</td>\n",
       "      <td>0</td>\n",
       "      <td>0</td>\n",
       "      <td>0</td>\n",
       "      <td>0</td>\n",
       "      <td>0</td>\n",
       "      <td>0</td>\n",
       "      <td>0.004860</td>\n",
       "      <td>0.15</td>\n",
       "    </tr>\n",
       "    <tr>\n",
       "      <td>3</td>\n",
       "      <td>1</td>\n",
       "      <td>0</td>\n",
       "      <td>0</td>\n",
       "      <td>0</td>\n",
       "      <td>0</td>\n",
       "      <td>0</td>\n",
       "      <td>0</td>\n",
       "      <td>0</td>\n",
       "      <td>0</td>\n",
       "      <td>0</td>\n",
       "      <td>...</td>\n",
       "      <td>0</td>\n",
       "      <td>0</td>\n",
       "      <td>0</td>\n",
       "      <td>0</td>\n",
       "      <td>0</td>\n",
       "      <td>0</td>\n",
       "      <td>0</td>\n",
       "      <td>0</td>\n",
       "      <td>0.004860</td>\n",
       "      <td>0.15</td>\n",
       "    </tr>\n",
       "    <tr>\n",
       "      <td>4</td>\n",
       "      <td>1</td>\n",
       "      <td>0</td>\n",
       "      <td>0</td>\n",
       "      <td>0</td>\n",
       "      <td>0</td>\n",
       "      <td>0</td>\n",
       "      <td>0</td>\n",
       "      <td>0</td>\n",
       "      <td>0</td>\n",
       "      <td>0</td>\n",
       "      <td>...</td>\n",
       "      <td>0</td>\n",
       "      <td>0</td>\n",
       "      <td>0</td>\n",
       "      <td>0</td>\n",
       "      <td>0</td>\n",
       "      <td>0</td>\n",
       "      <td>0</td>\n",
       "      <td>0</td>\n",
       "      <td>0.004860</td>\n",
       "      <td>0.15</td>\n",
       "    </tr>\n",
       "  </tbody>\n",
       "</table>\n",
       "<p>5 rows × 4383 columns</p>\n",
       "</div>"
      ],
      "text/plain": [
       "   STATUS_active  STATUS_closed  STATUS_inactive  STATUS_paused  \\\n",
       "0              1              0                0              0   \n",
       "1              1              0                0              0   \n",
       "2              1              0                0              0   \n",
       "3              1              0                0              0   \n",
       "4              1              0                0              0   \n",
       "\n",
       "   STATUS_under_review  DT_CAT_PROD_B2BWER04UG  DT_CAT_PROD_B5O1R5Z1VR  \\\n",
       "0                    0                       0                       0   \n",
       "1                    0                       0                       0   \n",
       "2                    0                       0                       0   \n",
       "3                    0                       0                       0   \n",
       "4                    0                       0                       0   \n",
       "\n",
       "   DT_CAT_PROD_BF6NGKUMZ9  DT_CAT_PROD_BW4AU3M2JW  DT_CAT_PROD_CCDEBX4JCH  \\\n",
       "0                       0                       0                       0   \n",
       "1                       0                       0                       0   \n",
       "2                       0                       0                       0   \n",
       "3                       0                       0                       0   \n",
       "4                       0                       0                       0   \n",
       "\n",
       "   ...  DT_MODEL_XBOX_360  DT_MODEL_XBOX_ONE  DT_MODEL_XBOX_ONE_S  \\\n",
       "0  ...                  0                  0                    0   \n",
       "1  ...                  0                  0                    0   \n",
       "2  ...                  0                  0                    0   \n",
       "3  ...                  0                  0                    0   \n",
       "4  ...                  0                  0                    0   \n",
       "\n",
       "   DT_MODEL_XENON  DT_MODEL_XIAOMI  DT_MODEL_XTREME  DT_MODEL_X_PLAY  \\\n",
       "0               0                0                0                0   \n",
       "1               0                0                0                0   \n",
       "2               0                0                0                0   \n",
       "3               0                0                0                0   \n",
       "4               0                0                0                0   \n",
       "\n",
       "   DT_MODEL__  RV_PRICE  LEN_ATR  \n",
       "0           0  0.002263     0.10  \n",
       "1           0  0.004860     0.15  \n",
       "2           0  0.004860     0.15  \n",
       "3           0  0.004860     0.15  \n",
       "4           0  0.004860     0.15  \n",
       "\n",
       "[5 rows x 4383 columns]"
      ]
     },
     "metadata": {},
     "output_type": "display_data"
    },
    {
     "data": {
      "text/html": [
       "<div>\n",
       "<style scoped>\n",
       "    .dataframe tbody tr th:only-of-type {\n",
       "        vertical-align: middle;\n",
       "    }\n",
       "\n",
       "    .dataframe tbody tr th {\n",
       "        vertical-align: top;\n",
       "    }\n",
       "\n",
       "    .dataframe thead th {\n",
       "        text-align: right;\n",
       "    }\n",
       "</style>\n",
       "<table border=\"1\" class=\"dataframe\">\n",
       "  <thead>\n",
       "    <tr style=\"text-align: right;\">\n",
       "      <th></th>\n",
       "      <th>NO_MAQUINABLE</th>\n",
       "    </tr>\n",
       "  </thead>\n",
       "  <tbody>\n",
       "    <tr>\n",
       "      <td>0</td>\n",
       "      <td>False</td>\n",
       "    </tr>\n",
       "    <tr>\n",
       "      <td>1</td>\n",
       "      <td>False</td>\n",
       "    </tr>\n",
       "    <tr>\n",
       "      <td>2</td>\n",
       "      <td>False</td>\n",
       "    </tr>\n",
       "    <tr>\n",
       "      <td>3</td>\n",
       "      <td>False</td>\n",
       "    </tr>\n",
       "    <tr>\n",
       "      <td>4</td>\n",
       "      <td>False</td>\n",
       "    </tr>\n",
       "  </tbody>\n",
       "</table>\n",
       "</div>"
      ],
      "text/plain": [
       "   NO_MAQUINABLE\n",
       "0          False\n",
       "1          False\n",
       "2          False\n",
       "3          False\n",
       "4          False"
      ]
     },
     "metadata": {},
     "output_type": "display_data"
    }
   ],
   "source": [
    "Xcat = pd.get_dummies(df_modelo[col_categorias],columns=col_categorias, sparse=True)\n",
    "\n",
    "#Junto Categóricas y Numéricas\n",
    "X=pd.concat([Xcat, Xcon], axis=1)\n",
    "y=df_modelo[col_y]\n",
    "\n",
    "print(X.shape)\n",
    "print(X.dtypes)\n",
    "\n",
    "display(X.head(5))\n",
    "display(y.head(5))"
   ]
  },
  {
   "cell_type": "code",
   "execution_count": 13,
   "metadata": {},
   "outputs": [],
   "source": [
    "from sklearn.model_selection import train_test_split\n",
    "from sklearn.metrics import accuracy_score, classification_report, confusion_matrix"
   ]
  },
  {
   "cell_type": "code",
   "execution_count": 14,
   "metadata": {},
   "outputs": [],
   "source": [
    "#Separamos en train(80%) y test (20%) y entrenamos el modelo\n",
    "X_train, X_test, y_train, y_test = train_test_split(X, y, test_size=0.2, random_state=0)"
   ]
  },
  {
   "cell_type": "code",
   "execution_count": 15,
   "metadata": {},
   "outputs": [
    {
     "name": "stdout",
     "output_type": "stream",
     "text": [
      "TRAIN\n",
      "X: (237032, 4383)\n",
      "y: (237032, 1)\n",
      "TEST\n",
      "X: (59259, 4383)\n",
      "y: (59259, 1)\n"
     ]
    }
   ],
   "source": [
    "print('TRAIN')\n",
    "print('X:', X_train.shape)\n",
    "print('y:', y_train.shape)\n",
    "\n",
    "print('TEST')\n",
    "print('X:', X_test.shape)\n",
    "print('y:', y_test.shape)"
   ]
  },
  {
   "cell_type": "markdown",
   "metadata": {},
   "source": [
    "3. Probamos SGDClassifier con función de costo LOG"
   ]
  },
  {
   "cell_type": "code",
   "execution_count": 16,
   "metadata": {},
   "outputs": [],
   "source": [
    "from sklearn.linear_model import SGDClassifier"
   ]
  },
  {
   "cell_type": "code",
   "execution_count": 18,
   "metadata": {},
   "outputs": [
    {
     "name": "stderr",
     "output_type": "stream",
     "text": [
      "C:\\Users\\Marcelo\\Anaconda3\\lib\\site-packages\\sklearn\\utils\\validation.py:724: DataConversionWarning: A column-vector y was passed when a 1d array was expected. Please change the shape of y to (n_samples, ), for example using ravel().\n",
      "  y = column_or_1d(y, warn=True)\n"
     ]
    },
    {
     "data": {
      "text/plain": [
       "SGDClassifier(alpha=0.001, average=False, class_weight=None,\n",
       "              early_stopping=True, epsilon=0.1, eta0=0.0, fit_intercept=True,\n",
       "              l1_ratio=0.15, learning_rate='optimal', loss='log', max_iter=1000,\n",
       "              n_iter_no_change=5, n_jobs=-1, penalty='l2', power_t=0.5,\n",
       "              random_state=5, shuffle=True, tol=0.001, validation_fraction=0.1,\n",
       "              verbose=0, warm_start=False)"
      ]
     },
     "execution_count": 18,
     "metadata": {},
     "output_type": "execute_result"
    }
   ],
   "source": [
    "modeloSDG = SGDClassifier(random_state=5, n_jobs=-1, loss='log', alpha=0.001, early_stopping=True)\n",
    "modeloSDG.fit(X_train, y_train)"
   ]
  },
  {
   "cell_type": "code",
   "execution_count": 19,
   "metadata": {},
   "outputs": [],
   "source": [
    "y_train_pred = modeloSDG.predict(X_train)\n",
    "y_test_pred  = modeloSDG.predict(X_test)"
   ]
  },
  {
   "cell_type": "code",
   "execution_count": 20,
   "metadata": {},
   "outputs": [
    {
     "name": "stdout",
     "output_type": "stream",
     "text": [
      "Exactitud para TRAIN: 0.9551\n"
     ]
    },
    {
     "name": "stderr",
     "output_type": "stream",
     "text": [
      "C:\\Users\\Marcelo\\Anaconda3\\lib\\site-packages\\sklearn\\metrics\\classification.py:1437: UndefinedMetricWarning: Precision and F-score are ill-defined and being set to 0.0 in labels with no predicted samples.\n",
      "  'precision', 'predicted', average, warn_for)\n",
      "C:\\Users\\Marcelo\\Anaconda3\\lib\\site-packages\\sklearn\\metrics\\classification.py:1437: UndefinedMetricWarning: Precision and F-score are ill-defined and being set to 0.0 in labels with no predicted samples.\n",
      "  'precision', 'predicted', average, warn_for)\n"
     ]
    },
    {
     "name": "stdout",
     "output_type": "stream",
     "text": [
      "              precision    recall  f1-score   support\n",
      "\n",
      "       False       0.96      1.00      0.98    226390\n",
      "        True       0.00      0.00      0.00     10642\n",
      "\n",
      "    accuracy                           0.96    237032\n",
      "   macro avg       0.48      0.50      0.49    237032\n",
      "weighted avg       0.91      0.96      0.93    237032\n",
      "\n",
      "Exactitud para TEST : 0.9550\n",
      "              precision    recall  f1-score   support\n",
      "\n",
      "       False       0.95      1.00      0.98     56590\n",
      "        True       0.00      0.00      0.00      2669\n",
      "\n",
      "    accuracy                           0.95     59259\n",
      "   macro avg       0.48      0.50      0.49     59259\n",
      "weighted avg       0.91      0.95      0.93     59259\n",
      "\n"
     ]
    },
    {
     "name": "stderr",
     "output_type": "stream",
     "text": [
      "C:\\Users\\Marcelo\\Anaconda3\\lib\\site-packages\\sklearn\\metrics\\classification.py:1437: UndefinedMetricWarning: Precision and F-score are ill-defined and being set to 0.0 in labels with no predicted samples.\n",
      "  'precision', 'predicted', average, warn_for)\n",
      "C:\\Users\\Marcelo\\Anaconda3\\lib\\site-packages\\sklearn\\metrics\\classification.py:1437: UndefinedMetricWarning: Precision and F-score are ill-defined and being set to 0.0 in labels with no predicted samples.\n",
      "  'precision', 'predicted', average, warn_for)\n",
      "C:\\Users\\Marcelo\\Anaconda3\\lib\\site-packages\\sklearn\\metrics\\classification.py:1437: UndefinedMetricWarning: Precision and F-score are ill-defined and being set to 0.0 in labels with no predicted samples.\n",
      "  'precision', 'predicted', average, warn_for)\n",
      "C:\\Users\\Marcelo\\Anaconda3\\lib\\site-packages\\sklearn\\metrics\\classification.py:1437: UndefinedMetricWarning: Precision and F-score are ill-defined and being set to 0.0 in labels with no predicted samples.\n",
      "  'precision', 'predicted', average, warn_for)\n"
     ]
    }
   ],
   "source": [
    "print('Exactitud para TRAIN: %.4f' % accuracy_score(y_train, y_train_pred))\n",
    "print(classification_report(y_train, y_train_pred))\n",
    "\n",
    "print('Exactitud para TEST : %.4f' % accuracy_score(y_test, y_test_pred))\n",
    "print(classification_report(y_test, y_test_pred))"
   ]
  },
  {
   "cell_type": "code",
   "execution_count": 21,
   "metadata": {},
   "outputs": [],
   "source": [
    "from ml.visualization import plot_confusion_matrix"
   ]
  },
  {
   "cell_type": "code",
   "execution_count": 22,
   "metadata": {},
   "outputs": [
    {
     "data": {
      "text/plain": [
       "array([[226390,      0],\n",
       "       [ 10642,      0]], dtype=int64)"
      ]
     },
     "execution_count": 22,
     "metadata": {},
     "output_type": "execute_result"
    }
   ],
   "source": [
    "confusion_matrix(y_train, y_train_pred)"
   ]
  },
  {
   "cell_type": "code",
   "execution_count": 23,
   "metadata": {},
   "outputs": [
    {
     "data": {
      "image/png": "[encoded data removed]",
      "text/plain": [
       "<Figure size 432x288 with 2 Axes>"
      ]
     },
     "metadata": {
      "needs_background": "light"
     },
     "output_type": "display_data"
    }
   ],
   "source": [
    "plot_confusion_matrix(confusion_matrix(y_train, y_train_pred), classes=['OK','Multado'], title=\"Datos: TRAIN\", cmap=plt.cm.Greens)"
   ]
  },
  {
   "cell_type": "code",
   "execution_count": 24,
   "metadata": {},
   "outputs": [
    {
     "data": {
      "text/plain": [
       "array([[56590,     0],\n",
       "       [ 2669,     0]], dtype=int64)"
      ]
     },
     "execution_count": 24,
     "metadata": {},
     "output_type": "execute_result"
    }
   ],
   "source": [
    "confusion_matrix(y_test, y_test_pred)"
   ]
  },
  {
   "cell_type": "code",
   "execution_count": 25,
   "metadata": {},
   "outputs": [
    {
     "data": {
      "image/png": "[encoded data removed]",
      "text/plain": [
       "<Figure size 432x288 with 2 Axes>"
      ]
     },
     "metadata": {
      "needs_background": "light"
     },
     "output_type": "display_data"
    }
   ],
   "source": [
    "plot_confusion_matrix(confusion_matrix(y_test, y_test_pred), classes=['OK','Multado'], title=\"Datos: TEST\")"
   ]
  },
  {
   "cell_type": "markdown",
   "metadata": {},
   "source": [
    "4. Volvemos a probamos SGDClassifier con valores por defecto, ya que la ejecución anterior predecía todo como OK."
   ]
  },
  {
   "cell_type": "code",
   "execution_count": 26,
   "metadata": {},
   "outputs": [
    {
     "name": "stderr",
     "output_type": "stream",
     "text": [
      "C:\\Users\\Marcelo\\Anaconda3\\lib\\site-packages\\sklearn\\utils\\validation.py:724: DataConversionWarning: A column-vector y was passed when a 1d array was expected. Please change the shape of y to (n_samples, ), for example using ravel().\n",
      "  y = column_or_1d(y, warn=True)\n"
     ]
    },
    {
     "data": {
      "text/plain": [
       "SGDClassifier(alpha=0.0001, average=False, class_weight=None,\n",
       "              early_stopping=False, epsilon=0.1, eta0=0.0, fit_intercept=True,\n",
       "              l1_ratio=0.15, learning_rate='optimal', loss='hinge',\n",
       "              max_iter=1000, n_iter_no_change=5, n_jobs=-1, penalty='l2',\n",
       "              power_t=0.5, random_state=5, shuffle=True, tol=0.001,\n",
       "              validation_fraction=0.1, verbose=0, warm_start=False)"
      ]
     },
     "execution_count": 26,
     "metadata": {},
     "output_type": "execute_result"
    }
   ],
   "source": [
    "modeloSDG = SGDClassifier(random_state=5, n_jobs=-1)\n",
    "modeloSDG.fit(X_train, y_train)"
   ]
  },
  {
   "cell_type": "code",
   "execution_count": 27,
   "metadata": {},
   "outputs": [],
   "source": [
    "y_train_pred = modeloSDG.predict(X_train)\n",
    "y_test_pred  = modeloSDG.predict(X_test)"
   ]
  },
  {
   "cell_type": "code",
   "execution_count": 28,
   "metadata": {},
   "outputs": [
    {
     "name": "stdout",
     "output_type": "stream",
     "text": [
      "Exactitud para TRAIN: 0.9614\n",
      "              precision    recall  f1-score   support\n",
      "\n",
      "       False       0.96      1.00      0.98    226390\n",
      "        True       0.81      0.19      0.30     10642\n",
      "\n",
      "    accuracy                           0.96    237032\n",
      "   macro avg       0.89      0.59      0.64    237032\n",
      "weighted avg       0.96      0.96      0.95    237032\n",
      "\n",
      "Exactitud para TEST : 0.9610\n",
      "              precision    recall  f1-score   support\n",
      "\n",
      "       False       0.96      1.00      0.98     56590\n",
      "        True       0.81      0.18      0.29      2669\n",
      "\n",
      "    accuracy                           0.96     59259\n",
      "   macro avg       0.88      0.59      0.64     59259\n",
      "weighted avg       0.96      0.96      0.95     59259\n",
      "\n"
     ]
    }
   ],
   "source": [
    "print('Exactitud para TRAIN: %.4f' % accuracy_score(y_train, y_train_pred))\n",
    "print(classification_report(y_train, y_train_pred))\n",
    "\n",
    "print('Exactitud para TEST : %.4f' % accuracy_score(y_test, y_test_pred))\n",
    "print(classification_report(y_test, y_test_pred))"
   ]
  },
  {
   "cell_type": "code",
   "execution_count": 29,
   "metadata": {},
   "outputs": [
    {
     "data": {
      "text/plain": [
       "array([[225924,    466],\n",
       "       [  8672,   1970]], dtype=int64)"
      ]
     },
     "execution_count": 29,
     "metadata": {},
     "output_type": "execute_result"
    }
   ],
   "source": [
    "confusion_matrix(y_train, y_train_pred)"
   ]
  },
  {
   "cell_type": "code",
   "execution_count": 30,
   "metadata": {},
   "outputs": [
    {
     "data": {
      "text/plain": [
       "array([[56477,   113],\n",
       "       [ 2197,   472]], dtype=int64)"
      ]
     },
     "execution_count": 30,
     "metadata": {},
     "output_type": "execute_result"
    }
   ],
   "source": [
    "confusion_matrix(y_test, y_test_pred)"
   ]
  },
  {
   "cell_type": "markdown",
   "metadata": {},
   "source": [
    "4. Probamos RandomFores con parámetros por defecto"
   ]
  },
  {
   "cell_type": "code",
   "execution_count": 31,
   "metadata": {},
   "outputs": [],
   "source": [
    "from sklearn.ensemble import RandomForestClassifier"
   ]
  },
  {
   "cell_type": "code",
   "execution_count": 32,
   "metadata": {},
   "outputs": [
    {
     "name": "stderr",
     "output_type": "stream",
     "text": [
      "C:\\Users\\Marcelo\\Anaconda3\\lib\\site-packages\\ipykernel_launcher.py:2: DataConversionWarning: A column-vector y was passed when a 1d array was expected. Please change the shape of y to (n_samples,), for example using ravel().\n",
      "  \n"
     ]
    },
    {
     "data": {
      "text/plain": [
       "RandomForestClassifier(bootstrap=True, class_weight=None, criterion='gini',\n",
       "                       max_depth=None, max_features='auto', max_leaf_nodes=None,\n",
       "                       min_impurity_decrease=0.0, min_impurity_split=None,\n",
       "                       min_samples_leaf=1, min_samples_split=2,\n",
       "                       min_weight_fraction_leaf=0.0, n_estimators=10,\n",
       "                       n_jobs=None, oob_score=False, random_state=5, verbose=0,\n",
       "                       warm_start=False)"
      ]
     },
     "execution_count": 32,
     "metadata": {},
     "output_type": "execute_result"
    }
   ],
   "source": [
    "modeloRFC = RandomForestClassifier(random_state=5)\n",
    "modeloRFC.fit(X_train, y_train)"
   ]
  },
  {
   "cell_type": "code",
   "execution_count": 33,
   "metadata": {},
   "outputs": [],
   "source": [
    "y_train_pred = modeloRFC.predict(X_train)\n",
    "y_test_pred  = modeloRFC.predict(X_test)"
   ]
  },
  {
   "cell_type": "code",
   "execution_count": 34,
   "metadata": {},
   "outputs": [
    {
     "name": "stdout",
     "output_type": "stream",
     "text": [
      "Exactitud para TRAIN: 0.9912\n",
      "              precision    recall  f1-score   support\n",
      "\n",
      "       False       0.99      1.00      1.00    226390\n",
      "        True       0.96      0.84      0.90     10642\n",
      "\n",
      "    accuracy                           0.99    237032\n",
      "   macro avg       0.97      0.92      0.95    237032\n",
      "weighted avg       0.99      0.99      0.99    237032\n",
      "\n",
      "Exactitud para TEST : 0.9642\n",
      "              precision    recall  f1-score   support\n",
      "\n",
      "       False       0.97      0.99      0.98     56590\n",
      "        True       0.66      0.42      0.51      2669\n",
      "\n",
      "    accuracy                           0.96     59259\n",
      "   macro avg       0.82      0.70      0.75     59259\n",
      "weighted avg       0.96      0.96      0.96     59259\n",
      "\n"
     ]
    }
   ],
   "source": [
    "print('Exactitud para TRAIN: %.4f' % accuracy_score(y_train, y_train_pred))\n",
    "print(classification_report(y_train, y_train_pred))\n",
    "\n",
    "print('Exactitud para TEST : %.4f' % accuracy_score(y_test, y_test_pred))\n",
    "print(classification_report(y_test, y_test_pred))"
   ]
  },
  {
   "cell_type": "code",
   "execution_count": 35,
   "metadata": {},
   "outputs": [
    {
     "data": {
      "text/plain": [
       "array([[225986,    404],\n",
       "       [  1685,   8957]], dtype=int64)"
      ]
     },
     "execution_count": 35,
     "metadata": {},
     "output_type": "execute_result"
    }
   ],
   "source": [
    "confusion_matrix(y_train, y_train_pred)"
   ]
  },
  {
   "cell_type": "code",
   "execution_count": 36,
   "metadata": {},
   "outputs": [
    {
     "data": {
      "text/plain": [
       "array([[56019,   571],\n",
       "       [ 1551,  1118]], dtype=int64)"
      ]
     },
     "execution_count": 36,
     "metadata": {},
     "output_type": "execute_result"
    }
   ],
   "source": [
    "confusion_matrix(y_test, y_test_pred)"
   ]
  },
  {
   "cell_type": "markdown",
   "metadata": {},
   "source": [
    "Consultamos principales atributos considerados en el análisis"
   ]
  },
  {
   "cell_type": "code",
   "execution_count": 37,
   "metadata": {},
   "outputs": [
    {
     "data": {
      "text/html": [
       "<div>\n",
       "<style scoped>\n",
       "    .dataframe tbody tr th:only-of-type {\n",
       "        vertical-align: middle;\n",
       "    }\n",
       "\n",
       "    .dataframe tbody tr th {\n",
       "        vertical-align: top;\n",
       "    }\n",
       "\n",
       "    .dataframe thead th {\n",
       "        text-align: right;\n",
       "    }\n",
       "</style>\n",
       "<table border=\"1\" class=\"dataframe\">\n",
       "  <thead>\n",
       "    <tr style=\"text-align: right;\">\n",
       "      <th></th>\n",
       "      <th>Atributo</th>\n",
       "      <th>Importancia</th>\n",
       "    </tr>\n",
       "  </thead>\n",
       "  <tbody>\n",
       "    <tr>\n",
       "      <td>4381</td>\n",
       "      <td>RV_PRICE</td>\n",
       "      <td>0.306015</td>\n",
       "    </tr>\n",
       "    <tr>\n",
       "      <td>4382</td>\n",
       "      <td>LEN_ATR</td>\n",
       "      <td>0.093905</td>\n",
       "    </tr>\n",
       "    <tr>\n",
       "      <td>0</td>\n",
       "      <td>STATUS_active</td>\n",
       "      <td>0.012656</td>\n",
       "    </tr>\n",
       "    <tr>\n",
       "      <td>3</td>\n",
       "      <td>STATUS_paused</td>\n",
       "      <td>0.011974</td>\n",
       "    </tr>\n",
       "    <tr>\n",
       "      <td>2117</td>\n",
       "      <td>DT_SELLER_OTROS</td>\n",
       "      <td>0.011175</td>\n",
       "    </tr>\n",
       "    <tr>\n",
       "      <td>141</td>\n",
       "      <td>DT_DOMAIN_MLB-AUTOMOTIVE_DEFLECTORS</td>\n",
       "      <td>0.011137</td>\n",
       "    </tr>\n",
       "    <tr>\n",
       "      <td>3512</td>\n",
       "      <td>DT_BRAND_OTROS</td>\n",
       "      <td>0.009228</td>\n",
       "    </tr>\n",
       "    <tr>\n",
       "      <td>557</td>\n",
       "      <td>DT_DOMAIN_MLB-FISHING_RODS</td>\n",
       "      <td>0.009070</td>\n",
       "    </tr>\n",
       "    <tr>\n",
       "      <td>95</td>\n",
       "      <td>DT_DOMAIN_MLB-ACOUSTIC_GUITARS</td>\n",
       "      <td>0.007879</td>\n",
       "    </tr>\n",
       "    <tr>\n",
       "      <td>1037</td>\n",
       "      <td>DT_DOMAIN_MLB-STOOLS</td>\n",
       "      <td>0.007466</td>\n",
       "    </tr>\n",
       "  </tbody>\n",
       "</table>\n",
       "</div>"
      ],
      "text/plain": [
       "                                 Atributo  Importancia\n",
       "4381                             RV_PRICE     0.306015\n",
       "4382                              LEN_ATR     0.093905\n",
       "0                           STATUS_active     0.012656\n",
       "3                           STATUS_paused     0.011974\n",
       "2117                      DT_SELLER_OTROS     0.011175\n",
       "141   DT_DOMAIN_MLB-AUTOMOTIVE_DEFLECTORS     0.011137\n",
       "3512                       DT_BRAND_OTROS     0.009228\n",
       "557            DT_DOMAIN_MLB-FISHING_RODS     0.009070\n",
       "95         DT_DOMAIN_MLB-ACOUSTIC_GUITARS     0.007879\n",
       "1037                 DT_DOMAIN_MLB-STOOLS     0.007466"
      ]
     },
     "execution_count": 37,
     "metadata": {},
     "output_type": "execute_result"
    }
   ],
   "source": [
    "atr_imp=pd.DataFrame(data=zip(X.columns, modeloRFC.feature_importances_), columns=['Atributo','Importancia'] )\n",
    "atr_imp.sort_values(by='Importancia', ascending=False, inplace=True)\n",
    "atr_imp.head(10)"
   ]
  },
  {
   "cell_type": "code",
   "execution_count": null,
   "metadata": {},
   "outputs": [],
   "source": []
  }
 ],
 "metadata": {
  "kernelspec": {
   "display_name": "Python 3",
   "language": "python",
   "name": "python3"
  },
  "language_info": {
   "codemirror_mode": {
    "name": "ipython",
    "version": 3
   },
   "file_extension": ".py",
   "mimetype": "text/x-python",
   "name": "python",
   "nbconvert_exporter": "python",
   "pygments_lexer": "ipython3",
   "version": "3.7.1"
  }
 },
 "nbformat": 4,
 "nbformat_minor": 2
}
